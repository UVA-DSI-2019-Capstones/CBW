{
 "cells": [
  {
   "cell_type": "code",
   "execution_count": 10,
   "metadata": {},
   "outputs": [],
   "source": [
    "#Importing required packages\n",
    "import numpy as np\n",
    "import os\n",
    "import pandas as pd\n",
    "import matplotlib.pyplot as plt"
   ]
  },
  {
   "cell_type": "code",
   "execution_count": 2,
   "metadata": {},
   "outputs": [],
   "source": [
    "#Setting the working directory\n",
    "#os.chdir('E:/Capstone IATH/Code')"
   ]
  },
  {
   "cell_type": "code",
   "execution_count": 3,
   "metadata": {},
   "outputs": [
    {
     "data": {
      "text/html": [
       "<div>\n",
       "<style scoped>\n",
       "    .dataframe tbody tr th:only-of-type {\n",
       "        vertical-align: middle;\n",
       "    }\n",
       "\n",
       "    .dataframe tbody tr th {\n",
       "        vertical-align: top;\n",
       "    }\n",
       "\n",
       "    .dataframe thead th {\n",
       "        text-align: right;\n",
       "    }\n",
       "</style>\n",
       "<table border=\"1\" class=\"dataframe\">\n",
       "  <thead>\n",
       "    <tr style=\"text-align: right;\">\n",
       "      <th></th>\n",
       "      <th>Content</th>\n",
       "      <th>Event</th>\n",
       "      <th>Type</th>\n",
       "      <th>para no</th>\n",
       "      <th>URI</th>\n",
       "      <th>author</th>\n",
       "      <th>biographyID</th>\n",
       "      <th>collectionID</th>\n",
       "      <th>personaName</th>\n",
       "      <th>title</th>\n",
       "    </tr>\n",
       "  </thead>\n",
       "  <tbody>\n",
       "    <tr>\n",
       "      <th>0</th>\n",
       "      <td>after</td>\n",
       "      <td>name</td>\n",
       "      <td>stageOfLife</td>\n",
       "      <td>1.0</td>\n",
       "      <td>a001.bio04.bess.xml</td>\n",
       "      <td>Willis John Abbot</td>\n",
       "      <td>bio04</td>\n",
       "      <td>a001</td>\n",
       "      <td>Cleopatra</td>\n",
       "      <td>Cleopatra (B.C. 69-30): The World's Most Famou...</td>\n",
       "    </tr>\n",
       "    <tr>\n",
       "      <th>1</th>\n",
       "      <td>culmination</td>\n",
       "      <td>name</td>\n",
       "      <td>stageOfLife</td>\n",
       "      <td>1.0</td>\n",
       "      <td>a001.bio04.bess.xml</td>\n",
       "      <td>Willis John Abbot</td>\n",
       "      <td>bio04</td>\n",
       "      <td>a001</td>\n",
       "      <td>Cleopatra</td>\n",
       "      <td>Cleopatra (B.C. 69-30): The World's Most Famou...</td>\n",
       "    </tr>\n",
       "    <tr>\n",
       "      <th>2</th>\n",
       "      <td>middle</td>\n",
       "      <td>name</td>\n",
       "      <td>stageOfLife</td>\n",
       "      <td>2.0</td>\n",
       "      <td>a001.bio04.bess.xml</td>\n",
       "      <td>Willis John Abbot</td>\n",
       "      <td>bio04</td>\n",
       "      <td>a001</td>\n",
       "      <td>Cleopatra</td>\n",
       "      <td>Cleopatra (B.C. 69-30): The World's Most Famou...</td>\n",
       "    </tr>\n",
       "    <tr>\n",
       "      <th>3</th>\n",
       "      <td>middle</td>\n",
       "      <td>name</td>\n",
       "      <td>stageOfLife</td>\n",
       "      <td>3.0</td>\n",
       "      <td>a001.bio04.bess.xml</td>\n",
       "      <td>Willis John Abbot</td>\n",
       "      <td>bio04</td>\n",
       "      <td>a001</td>\n",
       "      <td>Cleopatra</td>\n",
       "      <td>Cleopatra (B.C. 69-30): The World's Most Famou...</td>\n",
       "    </tr>\n",
       "    <tr>\n",
       "      <th>4</th>\n",
       "      <td>middle</td>\n",
       "      <td>name</td>\n",
       "      <td>stageOfLife</td>\n",
       "      <td>4.0</td>\n",
       "      <td>a001.bio04.bess.xml</td>\n",
       "      <td>Willis John Abbot</td>\n",
       "      <td>bio04</td>\n",
       "      <td>a001</td>\n",
       "      <td>Cleopatra</td>\n",
       "      <td>Cleopatra (B.C. 69-30): The World's Most Famou...</td>\n",
       "    </tr>\n",
       "  </tbody>\n",
       "</table>\n",
       "</div>"
      ],
      "text/plain": [
       "       Content Event         Type  para no                  URI  \\\n",
       "0        after  name  stageOfLife      1.0  a001.bio04.bess.xml   \n",
       "1  culmination  name  stageOfLife      1.0  a001.bio04.bess.xml   \n",
       "2       middle  name  stageOfLife      2.0  a001.bio04.bess.xml   \n",
       "3       middle  name  stageOfLife      3.0  a001.bio04.bess.xml   \n",
       "4       middle  name  stageOfLife      4.0  a001.bio04.bess.xml   \n",
       "\n",
       "              author biographyID collectionID personaName  \\\n",
       "0  Willis John Abbot       bio04         a001   Cleopatra   \n",
       "1  Willis John Abbot       bio04         a001   Cleopatra   \n",
       "2  Willis John Abbot       bio04         a001   Cleopatra   \n",
       "3  Willis John Abbot       bio04         a001   Cleopatra   \n",
       "4  Willis John Abbot       bio04         a001   Cleopatra   \n",
       "\n",
       "                                               title  \n",
       "0  Cleopatra (B.C. 69-30): The World's Most Famou...  \n",
       "1  Cleopatra (B.C. 69-30): The World's Most Famou...  \n",
       "2  Cleopatra (B.C. 69-30): The World's Most Famou...  \n",
       "3  Cleopatra (B.C. 69-30): The World's Most Famou...  \n",
       "4  Cleopatra (B.C. 69-30): The World's Most Famou...  "
      ]
     },
     "execution_count": 3,
     "metadata": {},
     "output_type": "execute_result"
    }
   ],
   "source": [
    "#Loading the data\n",
    "bess_data = pd.read_csv('/Users/user/Documents/github/CBW/data/CBW_Bess_tags_final2.csv', encoding='ISO-8859-1', low_memory=False)\n",
    "bess_data.head()"
   ]
  },
  {
   "cell_type": "markdown",
   "metadata": {},
   "source": [
    "## Top 10 Topos types across various biographies"
   ]
  },
  {
   "cell_type": "code",
   "execution_count": 5,
   "metadata": {},
   "outputs": [
    {
     "data": {
      "text/plain": [
       "fame in lifetime                         489\n",
       "dying or deathbed                        484\n",
       "association with great man or men        463\n",
       "recognition or tribute                   451\n",
       "hostility                                434\n",
       "triumph as fulfilled goal or ambition    427\n",
       "romance                                  399\n",
       "charity                                  375\n",
       "faith                                    315\n",
       "Name: Content, dtype: int64"
      ]
     },
     "execution_count": 5,
     "metadata": {},
     "output_type": "execute_result"
    }
   ],
   "source": [
    "#Count of values in Topos\n",
    "top_topos = bess_data[bess_data.Type == 'topos'].Content.value_counts()[1:10]\n",
    "top_topos"
   ]
  },
  {
   "cell_type": "markdown",
   "metadata": {},
   "source": [
    "## 1. fame in lifetime "
   ]
  },
  {
   "cell_type": "code",
   "execution_count": 7,
   "metadata": {},
   "outputs": [
    {
     "data": {
      "text/plain": [
       "Calamity Jane           63\n",
       "Lola Montez             47\n",
       "Florence Nightingale    19\n",
       "Jenny Lind              16\n",
       "Grace Darling           12\n",
       "Louisa May Alcott       11\n",
       "Frances Trollope        11\n",
       "Catherine Booth         10\n",
       "Peg Woffington          10\n",
       "Pearl Hart              10\n",
       "Adrienne Lecouvreur     10\n",
       "Hannah More             10\n",
       "Agnes Weston             9\n",
       "Anthony Trollope         9\n",
       "Elizabeth Fry            8\n",
       "Name: personaName, dtype: int64"
      ]
     },
     "execution_count": 7,
     "metadata": {},
     "output_type": "execute_result"
    }
   ],
   "source": [
    "topos_type = bess_data[bess_data.Content.isin([top_topos.index[0]])]\n",
    "topos_type.personaName.value_counts()[0:15]"
   ]
  },
  {
   "cell_type": "code",
   "execution_count": 8,
   "metadata": {},
   "outputs": [],
   "source": [
    "bio_distribution = topos_type.loc[:,['biographyID','collectionID']].apply(lambda x: '_'.join(x),axis = 1).value_counts()"
   ]
  },
  {
   "cell_type": "code",
   "execution_count": 12,
   "metadata": {},
   "outputs": [
    {
     "name": "stdout",
     "output_type": "stream",
     "text": [
      "Current size: [6.0, 4.0]\n"
     ]
    }
   ],
   "source": [
    "# Get current size\n",
    "fig_size = plt.rcParams[\"figure.figsize\"]\n",
    " \n",
    "# Prints: [8.0, 6.0]\n",
    "print(\"Current size:\", fig_size)\n",
    " \n",
    "# Set figure width to 15 and height to 9\n",
    "fig_size[0] = 15\n",
    "fig_size[1] = 9\n",
    "plt.rcParams[\"figure.figsize\"] = fig_size\n",
    "\n"
   ]
  },
  {
   "cell_type": "code",
   "execution_count": 13,
   "metadata": {},
   "outputs": [
    {
     "data": {
      "image/png": "[encoded data removed]",
      "text/plain": [
       "<Figure size 1080x648 with 1 Axes>"
      ]
     },
     "metadata": {},
     "output_type": "display_data"
    }
   ],
   "source": [
    "figure = plt.bar(bio_distribution.index[:10], bio_distribution[:10])"
   ]
  },
  {
   "cell_type": "markdown",
   "metadata": {},
   "source": [
    "## 2. dying or deathbed"
   ]
  },
  {
   "cell_type": "code",
   "execution_count": 14,
   "metadata": {},
   "outputs": [
    {
     "data": {
      "text/plain": [
       "Sister Dora                             91\n",
       "Queen Victoria                          31\n",
       "Adrienne Lecouvreur                     27\n",
       "Elizabeth Fry                           26\n",
       "Calamity Jane                           13\n",
       "Frances Ridley Havergal                 13\n",
       "Louisa Daniell                          12\n",
       "Princess Alice                          11\n",
       "Lola Montez                             10\n",
       "Charlotte Elizabth Tonna                10\n",
       "Louisa May Alcott                        9\n",
       "Henrietta Stuart                         8\n",
       "Catherine Tait                           8\n",
       "Marie de Rohan                           8\n",
       "Mata Hari, Marguerite Gertrude Zelle     7\n",
       "Name: personaName, dtype: int64"
      ]
     },
     "execution_count": 14,
     "metadata": {},
     "output_type": "execute_result"
    }
   ],
   "source": [
    "topos_type = bess_data[bess_data.Content.isin([top_topos.index[1]])]\n",
    "topos_type.personaName.value_counts()[0:15]"
   ]
  },
  {
   "cell_type": "code",
   "execution_count": 15,
   "metadata": {},
   "outputs": [],
   "source": [
    "bio_distribution = topos_type.loc[:,['biographyID','collectionID']].apply(lambda x: '_'.join(x),axis = 1).value_counts()"
   ]
  },
  {
   "cell_type": "code",
   "execution_count": 16,
   "metadata": {},
   "outputs": [
    {
     "data": {
      "image/png": "[encoded data removed]",
      "text/plain": [
       "<Figure size 1080x648 with 1 Axes>"
      ]
     },
     "metadata": {},
     "output_type": "display_data"
    }
   ],
   "source": [
    "figure = plt.bar(bio_distribution.index[:10], bio_distribution[:10])"
   ]
  },
  {
   "cell_type": "markdown",
   "metadata": {},
   "source": [
    "## 3. Association with great man or men "
   ]
  },
  {
   "cell_type": "code",
   "execution_count": 17,
   "metadata": {},
   "outputs": [
    {
     "data": {
      "text/plain": [
       "Lola Montez                                  92\n",
       "Lady Hamilton                                30\n",
       "Calamity Jane                                29\n",
       "Evelina Hanska                               26\n",
       "Anne Fitzpatrick Countess of Upper Ossory    23\n",
       "Marie de Rohan                               15\n",
       "Adrienne Lecouvreur                          10\n",
       "Cleopatra                                     9\n",
       "Elizabeth Chudleigh                           9\n",
       "Laura Bell                                    8\n",
       "Felicia Hemans                                8\n",
       "Felicia Dorothea Hemans                       8\n",
       "Grace Darling                                 7\n",
       "Lady Blessington                              6\n",
       "Hannah More                                   6\n",
       "Name: personaName, dtype: int64"
      ]
     },
     "execution_count": 17,
     "metadata": {},
     "output_type": "execute_result"
    }
   ],
   "source": [
    "topos_type = bess_data[bess_data.Content.isin([top_topos.index[2]])]\n",
    "topos_type.personaName.value_counts()[0:15]"
   ]
  },
  {
   "cell_type": "code",
   "execution_count": 18,
   "metadata": {},
   "outputs": [
    {
     "data": {
      "image/png": "[encoded data removed]",
      "text/plain": [
       "<Figure size 1080x648 with 1 Axes>"
      ]
     },
     "metadata": {},
     "output_type": "display_data"
    }
   ],
   "source": [
    "bio_distribution = topos_type.loc[:,['biographyID','collectionID']].apply(lambda x: '_'.join(x),axis = 1).value_counts()\n",
    "figure = plt.bar(bio_distribution.index[:10], bio_distribution[:10])"
   ]
  },
  {
   "cell_type": "markdown",
   "metadata": {},
   "source": [
    "## 3. Recognition or tribute                 "
   ]
  },
  {
   "cell_type": "code",
   "execution_count": 19,
   "metadata": {},
   "outputs": [
    {
     "data": {
      "text/plain": [
       "Sister Dora                58\n",
       "Lola Montez                49\n",
       "Queen Victoria             40\n",
       "Anthony Trollope           33\n",
       "Agnes Weston               27\n",
       "Mary Carpenter             20\n",
       "Caroline Herschel          17\n",
       "Florence Nightingale       16\n",
       "Elizabeth Fry              11\n",
       "Hannah More                 9\n",
       "Mary Somerville             9\n",
       "Baroness Burdett-Coutts     7\n",
       "Harriet Beecher Stowe       6\n",
       "Lady Henry Somerset         6\n",
       "Mary Lamb                   6\n",
       "Name: personaName, dtype: int64"
      ]
     },
     "execution_count": 19,
     "metadata": {},
     "output_type": "execute_result"
    }
   ],
   "source": [
    "topos_type = bess_data[bess_data.Content.isin([top_topos.index[3]])]\n",
    "topos_type.personaName.value_counts()[0:15]"
   ]
  },
  {
   "cell_type": "code",
   "execution_count": 20,
   "metadata": {},
   "outputs": [
    {
     "data": {
      "image/png": "[encoded data removed]",
      "text/plain": [
       "<Figure size 1080x648 with 1 Axes>"
      ]
     },
     "metadata": {},
     "output_type": "display_data"
    }
   ],
   "source": [
    "bio_distribution = topos_type.loc[:,['biographyID','collectionID']].apply(lambda x: '_'.join(x),axis = 1).value_counts()\n",
    "figure = plt.bar(bio_distribution.index[:10], bio_distribution[:10])"
   ]
  },
  {
   "cell_type": "markdown",
   "metadata": {},
   "source": [
    "## 3. Hostility  "
   ]
  },
  {
   "cell_type": "code",
   "execution_count": 21,
   "metadata": {},
   "outputs": [
    {
     "data": {
      "text/plain": [
       "Lola Montez                             68\n",
       "Mata Hari, Marguerite Gertrude Zelle    47\n",
       "Dorothea Jordan                         12\n",
       "ThÃÂ©roigne de MÃÂ©ricourt            12\n",
       "Jeanne de Valois-Saint RÃÂ©my          10\n",
       "Adrienne Lecouvreur                     10\n",
       "Queen Victoria                           9\n",
       "Theodora                                 9\n",
       "Caroline Norton                          7\n",
       "Peg Woffington                           7\n",
       "Madame du Barry                          7\n",
       "Calamity Jane                            7\n",
       "Cleopatra                                7\n",
       "Florence Nightingale                     7\n",
       "Nell Gwyn                                7\n",
       "Name: personaName, dtype: int64"
      ]
     },
     "execution_count": 21,
     "metadata": {},
     "output_type": "execute_result"
    }
   ],
   "source": [
    "topos_type = bess_data[bess_data.Content.isin([top_topos.index[4]])]\n",
    "topos_type.personaName.value_counts()[0:15]"
   ]
  },
  {
   "cell_type": "code",
   "execution_count": 22,
   "metadata": {},
   "outputs": [
    {
     "data": {
      "image/png": "[encoded data removed]",
      "text/plain": [
       "<Figure size 1080x648 with 1 Axes>"
      ]
     },
     "metadata": {},
     "output_type": "display_data"
    }
   ],
   "source": [
    "bio_distribution = topos_type.loc[:,['biographyID','collectionID']].apply(lambda x: '_'.join(x),axis = 1).value_counts()\n",
    "figure = plt.bar(bio_distribution.index[:10], bio_distribution[:10])"
   ]
  },
  {
   "cell_type": "markdown",
   "metadata": {},
   "source": [
    "## 4. Triumph as fulfilled goal or ambition  "
   ]
  },
  {
   "cell_type": "code",
   "execution_count": 23,
   "metadata": {},
   "outputs": [
    {
     "data": {
      "text/plain": [
       "Agnes Weston             40\n",
       "Catherine Booth          24\n",
       "Mary Carpenter           22\n",
       "Anthony Trollope         21\n",
       "Florence Nightingale     19\n",
       "Sarah Robinson           18\n",
       "Lola Montez              17\n",
       "Sister Dora              16\n",
       "Elizabeth Fry            14\n",
       "Frances Willard          12\n",
       "Caroline Herschel        12\n",
       "Louisa May Alcott        11\n",
       "Peg Woffington            9\n",
       "Queen Victoria            9\n",
       "Maud Ballington Booth     7\n",
       "Name: personaName, dtype: int64"
      ]
     },
     "execution_count": 23,
     "metadata": {},
     "output_type": "execute_result"
    }
   ],
   "source": [
    "topos_type = bess_data[bess_data.Content.isin([top_topos.index[5]])]\n",
    "topos_type.personaName.value_counts()[0:15]"
   ]
  },
  {
   "cell_type": "code",
   "execution_count": 24,
   "metadata": {},
   "outputs": [
    {
     "data": {
      "image/png": "[encoded data removed]",
      "text/plain": [
       "<Figure size 1080x648 with 1 Axes>"
      ]
     },
     "metadata": {},
     "output_type": "display_data"
    }
   ],
   "source": [
    "bio_distribution = topos_type.loc[:,['biographyID','collectionID']].apply(lambda x: '_'.join(x),axis = 1).value_counts()\n",
    "figure = plt.bar(bio_distribution.index[:10], bio_distribution[:10])"
   ]
  },
  {
   "cell_type": "markdown",
   "metadata": {},
   "source": [
    "## 5. Romance"
   ]
  },
  {
   "cell_type": "code",
   "execution_count": 25,
   "metadata": {},
   "outputs": [
    {
     "data": {
      "text/plain": [
       "Catherine Booth          56\n",
       "Lola Montez              54\n",
       "Queen Victoria           23\n",
       "Madame Jumel             14\n",
       "Marguerite of Valois     13\n",
       "Adrienne Lecouvreur      13\n",
       "Calamity Jane             9\n",
       "Princess Alice            9\n",
       "Marie Mancini             9\n",
       "Gabrielle d'Estrees       9\n",
       "Jane Welsh Carlyle        8\n",
       "Evelina Hanska            8\n",
       "Patrick Hull              7\n",
       "Sister Dora               7\n",
       "Marie de Brinvilliers     6\n",
       "Name: personaName, dtype: int64"
      ]
     },
     "execution_count": 25,
     "metadata": {},
     "output_type": "execute_result"
    }
   ],
   "source": [
    "                                 \n",
    "topos_type = bess_data[bess_data.Content.isin([top_topos.index[6]])]\n",
    "topos_type.personaName.value_counts()[0:15]"
   ]
  },
  {
   "cell_type": "markdown",
   "metadata": {},
   "source": [
    "## 6. Charity"
   ]
  },
  {
   "cell_type": "code",
   "execution_count": 26,
   "metadata": {},
   "outputs": [
    {
     "data": {
      "text/plain": [
       "Baroness Burdett-Coutts                     31\n",
       "Sister Dora                                 29\n",
       "Elizabeth Fry                               23\n",
       "Agnes Weston                                21\n",
       "Catherine Booth                             20\n",
       "Angela Georgina, Baroness Burdett-Coutts    20\n",
       "Calamity Jane                               18\n",
       "Princess Mary Adelaide                      18\n",
       "Princess Alice                              15\n",
       "Dorothea Jordan                             14\n",
       "Catherine Tait                              13\n",
       "Queen Victoria                              12\n",
       "Mary Carpenter                               9\n",
       "Catherine Gladstone                          8\n",
       "Sarah Robinson                               8\n",
       "Name: personaName, dtype: int64"
      ]
     },
     "execution_count": 26,
     "metadata": {},
     "output_type": "execute_result"
    }
   ],
   "source": [
    "                                \n",
    "topos_type = bess_data[bess_data.Content.isin([top_topos.index[7]])]\n",
    "topos_type.personaName.value_counts()[0:15]"
   ]
  },
  {
   "cell_type": "markdown",
   "metadata": {},
   "source": [
    "## 7. faith "
   ]
  },
  {
   "cell_type": "code",
   "execution_count": 27,
   "metadata": {},
   "outputs": [
    {
     "data": {
      "text/plain": [
       "Charlotte Elizabth Tonna    35\n",
       "Frances Ridley Havergal     34\n",
       "Agnes Weston                21\n",
       "Elizabeth Prentiss          17\n",
       "Queen Victoria              13\n",
       "Elizabeth Fry               12\n",
       "Mary Carpenter              11\n",
       "Frances Trollope            10\n",
       "Louisa Daniell               9\n",
       "Hannah Whitall Smith         9\n",
       "Eleanor Brennan              8\n",
       "Felicia Hemans               8\n",
       "Mary Moffat                  7\n",
       "Lady Jane Grey               7\n",
       "Catherine Booth              6\n",
       "Name: personaName, dtype: int64"
      ]
     },
     "execution_count": 27,
     "metadata": {},
     "output_type": "execute_result"
    }
   ],
   "source": [
    "topos_type = bess_data[bess_data.Content.isin([top_topos.index[8]])]\n",
    "topos_type.personaName.value_counts()[0:15]"
   ]
  },
  {
   "cell_type": "code",
   "execution_count": null,
   "metadata": {},
   "outputs": [],
   "source": []
  }
 ],
 "metadata": {
  "kernelspec": {
   "display_name": "Python 3",
   "language": "python",
   "name": "python3"
  },
  "language_info": {
   "codemirror_mode": {
    "name": "ipython",
    "version": 3
   },
   "file_extension": ".py",
   "mimetype": "text/x-python",
   "name": "python",
   "nbconvert_exporter": "python",
   "pygments_lexer": "ipython3",
   "version": "3.6.5"
  }
 },
 "nbformat": 4,
 "nbformat_minor": 2
}
