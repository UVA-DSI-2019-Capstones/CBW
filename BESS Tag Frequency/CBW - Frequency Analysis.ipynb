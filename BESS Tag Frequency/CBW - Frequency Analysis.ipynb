{
 "cells": [
  {
   "cell_type": "code",
   "execution_count": 50,
   "metadata": {},
   "outputs": [],
   "source": [
    "import pandas as pd\n",
    "import matplotlib.pyplot as plt"
   ]
  },
  {
   "cell_type": "code",
   "execution_count": 3,
   "metadata": {},
   "outputs": [],
   "source": [
    "bess_tags = pd.read_csv('CBW_Bess_tags_final2.csv')"
   ]
  },
  {
   "cell_type": "code",
   "execution_count": 20,
   "metadata": {},
   "outputs": [],
   "source": [
    "Event_content = bess_tags[bess_tags.Type == 'Event'].loc[:,['Content','Event']].fillna(' ')"
   ]
  },
  {
   "cell_type": "code",
   "execution_count": 25,
   "metadata": {},
   "outputs": [],
   "source": [
    "top_10_event_types = Event_content.apply(lambda x: '_'.join(x),axis = 1).value_counts()[0:10]"
   ]
  },
  {
   "cell_type": "code",
   "execution_count": 87,
   "metadata": {},
   "outputs": [
    {
     "data": {
      "text/plain": [
       "city_locationSetting            1351\n",
       "husband_agentType               1245\n",
       "conversation_type               1118\n",
       "nobleman, named_agentType        853\n",
       "father_agentType                 818\n",
       "lover, male, named_agentType     776\n",
       "royalty, male_agentType          753\n",
       "famous man_agentType             712\n",
       "writing letter_type              667\n",
       "sovereign, male_agentType        655\n",
       "dtype: int64"
      ]
     },
     "execution_count": 87,
     "metadata": {},
     "output_type": "execute_result"
    }
   ],
   "source": [
    "top_10_event_types"
   ]
  },
  {
   "cell_type": "markdown",
   "metadata": {},
   "source": [
    "### Checking the distribution of Top event types across various Biogarphies"
   ]
  },
  {
   "cell_type": "code",
   "execution_count": 30,
   "metadata": {},
   "outputs": [],
   "source": [
    "bess_tags.loc[:,['Content','Event']] = bess_tags.loc[:,['Content','Event']].fillna(' ')"
   ]
  },
  {
   "cell_type": "code",
   "execution_count": 32,
   "metadata": {},
   "outputs": [],
   "source": [
    "bess_tags['Content_Event'] = bess_tags.loc[:,['Content','Event']].apply(lambda x: '_'.join(x),axis = 1)"
   ]
  },
  {
   "cell_type": "markdown",
   "metadata": {},
   "source": [
    "### 1. city_locationSetting"
   ]
  },
  {
   "cell_type": "code",
   "execution_count": 39,
   "metadata": {},
   "outputs": [
    {
     "data": {
      "text/plain": [
       "'city_locationSetting'"
      ]
     },
     "execution_count": 39,
     "metadata": {},
     "output_type": "execute_result"
    }
   ],
   "source": [
    "top_10_event_types.index[0]"
   ]
  },
  {
   "cell_type": "code",
   "execution_count": 66,
   "metadata": {},
   "outputs": [
    {
     "data": {
      "text/plain": [
       "'city_locationSetting'"
      ]
     },
     "execution_count": 66,
     "metadata": {},
     "output_type": "execute_result"
    }
   ],
   "source": [
    "top_10_event_types.index[0]"
   ]
  },
  {
   "cell_type": "code",
   "execution_count": 44,
   "metadata": {},
   "outputs": [],
   "source": [
    "event_type = bess_tags[bess_tags.Content_Event.isin([top_10_event_types.index[0]])]"
   ]
  },
  {
   "cell_type": "code",
   "execution_count": 51,
   "metadata": {},
   "outputs": [],
   "source": [
    "bio_distribution = event_type.loc[:,['biographyID','collectionID']].apply(lambda x: '_'.join(x),axis = 1).value_counts()"
   ]
  },
  {
   "cell_type": "code",
   "execution_count": 54,
   "metadata": {},
   "outputs": [
    {
     "data": {
      "text/plain": [
       "bio07_a221A    71\n",
       "bio05_a557     26\n",
       "bio01_a319     22\n",
       "bio20_a557     21\n",
       "bio12_a527     20\n",
       "bio03_a185     18\n",
       "bio03_a034     18\n",
       "bio18_a052A    18\n",
       "bio08_a789     18\n",
       "bio02_a712     17\n",
       "bio05_a712     17\n",
       "bio08_a143     16\n",
       "bio05_a630     15\n",
       "bio26_a624     15\n",
       "bio03_a626     15\n",
       "bio25_a628     15\n",
       "bio03_a788     14\n",
       "bio04_a793     14\n",
       "bio01_a788     13\n",
       "bio04_a185     13\n",
       "bio03_a681     13\n",
       "bio19_p091C    13\n",
       "bio18_a789     13\n",
       "bio04_a788     12\n",
       "bio17_a557     12\n",
       "bio03_a319     12\n",
       "bio09_a162     12\n",
       "bio23_a557     12\n",
       "bio11_a186     12\n",
       "bio07_a813     11\n",
       "               ..\n",
       "bio13_a282      1\n",
       "bio25_a186      1\n",
       "bio09_a527      1\n",
       "bio03_a207      1\n",
       "bio07_a557      1\n",
       "bio08_a302A     1\n",
       "bio06_a162      1\n",
       "bio04_a221A     1\n",
       "bio04_a681      1\n",
       "bio14_a282      1\n",
       "bio04_a207      1\n",
       "bio09_a282      1\n",
       "bio12_a788      1\n",
       "bio08_a034      1\n",
       "bio10_a186      1\n",
       "bio02_a920      1\n",
       "bio12_a186      1\n",
       "bio07_a020      1\n",
       "bio01_a920      1\n",
       "bio07_a034      1\n",
       "bio09_a664      1\n",
       "bio06_a221A     1\n",
       "bio05_a221      1\n",
       "bio20_a282      1\n",
       "bio08_a162      1\n",
       "bio03_a162      1\n",
       "bio01_a020      1\n",
       "bio22_a628      1\n",
       "bio04_a894      1\n",
       "bio04_a712      1\n",
       "Length: 246, dtype: int64"
      ]
     },
     "execution_count": 54,
     "metadata": {},
     "output_type": "execute_result"
    }
   ],
   "source": [
    "bio_distribution"
   ]
  },
  {
   "cell_type": "code",
   "execution_count": 56,
   "metadata": {},
   "outputs": [
    {
     "data": {
      "text/plain": [
       "<Container object of 246 artists>"
      ]
     },
     "execution_count": 56,
     "metadata": {},
     "output_type": "execute_result"
    },
    {
     "data": {
      "image/png": "[encoded data removed]",
      "text/plain": [
       "<matplotlib.figure.Figure at 0x27bc105e9b0>"
      ]
     },
     "metadata": {},
     "output_type": "display_data"
    }
   ],
   "source": [
    "plt.bar(bio_distribution.index, bio_distribution)"
   ]
  },
  {
   "cell_type": "code",
   "execution_count": 65,
   "metadata": {},
   "outputs": [
    {
     "data": {
      "text/plain": [
       "Lola Montez               186\n",
       "Sister Dora                66\n",
       "Frances Trollope           45\n",
       "Mary Carpenter             43\n",
       "Elizabeth Fry              35\n",
       "Peg Woffington             32\n",
       "Caroline Herschel          28\n",
       "Cleopatra                  27\n",
       "Queen Victoria             26\n",
       "Sarah Robinson             23\n",
       "Adrienne Lecouvreur        22\n",
       "Dorothea Jordan            22\n",
       "Teresa Gamba Guiccioli     21\n",
       "Florence Nightingale       21\n",
       "Agnes Weston               19\n",
       "Name: personaName, dtype: int64"
      ]
     },
     "execution_count": 65,
     "metadata": {},
     "output_type": "execute_result"
    }
   ],
   "source": [
    "event_type.personaName.value_counts()[0:15]"
   ]
  },
  {
   "cell_type": "code",
   "execution_count": null,
   "metadata": {},
   "outputs": [],
   "source": []
  },
  {
   "cell_type": "markdown",
   "metadata": {},
   "source": [
    "### 2. husband_agentType"
   ]
  },
  {
   "cell_type": "code",
   "execution_count": 67,
   "metadata": {},
   "outputs": [
    {
     "data": {
      "text/plain": [
       "'husband_agentType'"
      ]
     },
     "execution_count": 67,
     "metadata": {},
     "output_type": "execute_result"
    }
   ],
   "source": [
    "top_10_event_types.index[1]"
   ]
  },
  {
   "cell_type": "code",
   "execution_count": 68,
   "metadata": {},
   "outputs": [],
   "source": [
    "event_type = bess_tags[bess_tags.Content_Event.isin([top_10_event_types.index[1]])]"
   ]
  },
  {
   "cell_type": "code",
   "execution_count": 69,
   "metadata": {},
   "outputs": [],
   "source": [
    "bio_distribution = event_type.loc[:,['biographyID','collectionID']].apply(lambda x: '_'.join(x),axis = 1).value_counts()"
   ]
  },
  {
   "cell_type": "code",
   "execution_count": 70,
   "metadata": {},
   "outputs": [
    {
     "data": {
      "text/plain": [
       "<Container object of 165 artists>"
      ]
     },
     "execution_count": 70,
     "metadata": {},
     "output_type": "execute_result"
    },
    {
     "data": {
      "image/png": "[encoded data removed]",
      "text/plain": [
       "<matplotlib.figure.Figure at 0x27bc0dce710>"
      ]
     },
     "metadata": {},
     "output_type": "display_data"
    }
   ],
   "source": [
    "plt.bar(bio_distribution.index, bio_distribution)"
   ]
  },
  {
   "cell_type": "code",
   "execution_count": 71,
   "metadata": {},
   "outputs": [
    {
     "data": {
      "text/plain": [
       "Lola Montez            133\n",
       "Queen Victoria          98\n",
       "Princess Alice          57\n",
       "Alcestis                56\n",
       "Catherine Booth         42\n",
       "Princess of Wales       32\n",
       "Mary Moffat             29\n",
       "Frances Trollope        28\n",
       "Lady Rachel Russell     27\n",
       "Sarah Jennings          23\n",
       "Elizabeth Fry           22\n",
       "Susannah Wesley         21\n",
       "Theodora                21\n",
       "Madame Jumel            20\n",
       "Helen of Troy           19\n",
       "Name: personaName, dtype: int64"
      ]
     },
     "execution_count": 71,
     "metadata": {},
     "output_type": "execute_result"
    }
   ],
   "source": [
    "event_type.personaName.value_counts()[0:15]"
   ]
  },
  {
   "cell_type": "code",
   "execution_count": null,
   "metadata": {},
   "outputs": [],
   "source": []
  },
  {
   "cell_type": "markdown",
   "metadata": {},
   "source": [
    "### 3. conversation_type"
   ]
  },
  {
   "cell_type": "code",
   "execution_count": 74,
   "metadata": {},
   "outputs": [
    {
     "data": {
      "text/plain": [
       "'conversation_type'"
      ]
     },
     "execution_count": 74,
     "metadata": {},
     "output_type": "execute_result"
    }
   ],
   "source": [
    "top_n = 2\n",
    "top_10_event_types.index[top_n]"
   ]
  },
  {
   "cell_type": "code",
   "execution_count": 75,
   "metadata": {},
   "outputs": [],
   "source": [
    "event_type = bess_tags[bess_tags.Content_Event.isin([top_10_event_types.index[top_n]])]"
   ]
  },
  {
   "cell_type": "code",
   "execution_count": 76,
   "metadata": {},
   "outputs": [],
   "source": [
    "bio_distribution = event_type.loc[:,['biographyID','collectionID']].apply(lambda x: '_'.join(x),axis = 1).value_counts()"
   ]
  },
  {
   "cell_type": "code",
   "execution_count": 77,
   "metadata": {},
   "outputs": [
    {
     "data": {
      "text/plain": [
       "<Container object of 171 artists>"
      ]
     },
     "execution_count": 77,
     "metadata": {},
     "output_type": "execute_result"
    },
    {
     "data": {
      "image/png": "[encoded data removed]",
      "text/plain": [
       "<matplotlib.figure.Figure at 0x27bc357fd68>"
      ]
     },
     "metadata": {},
     "output_type": "display_data"
    }
   ],
   "source": [
    "plt.bar(bio_distribution.index, bio_distribution)"
   ]
  },
  {
   "cell_type": "code",
   "execution_count": 78,
   "metadata": {},
   "outputs": [
    {
     "data": {
      "text/plain": [
       "Alcestis                        94\n",
       "Antigone                        91\n",
       "Iphigenia                       52\n",
       "Frances Trollope                44\n",
       "Louisa Daniell                  41\n",
       "Lola Montez                     35\n",
       "Frances Ridley Havergal         33\n",
       "Patrick Hull                    33\n",
       "Marguerite of Valois            32\n",
       "Jeanne de Valois-Saint RÃ©my    30\n",
       "Queen Victoria                  25\n",
       "Frances Anne Kemble             21\n",
       "Elizabeth Fry                   21\n",
       "Peg Woffington                  20\n",
       "Pauline Borghese                19\n",
       "Name: personaName, dtype: int64"
      ]
     },
     "execution_count": 78,
     "metadata": {},
     "output_type": "execute_result"
    }
   ],
   "source": [
    "event_type.personaName.value_counts()[0:15]"
   ]
  },
  {
   "cell_type": "code",
   "execution_count": null,
   "metadata": {},
   "outputs": [],
   "source": []
  },
  {
   "cell_type": "markdown",
   "metadata": {},
   "source": [
    "### 3. conversation_type"
   ]
  },
  {
   "cell_type": "code",
   "execution_count": 93,
   "metadata": {},
   "outputs": [
    {
     "data": {
      "text/plain": [
       "'nobleman, named_agentType'"
      ]
     },
     "execution_count": 93,
     "metadata": {},
     "output_type": "execute_result"
    }
   ],
   "source": [
    "top_n = 3\n",
    "top_10_event_types.index[top_n]"
   ]
  },
  {
   "cell_type": "code",
   "execution_count": 94,
   "metadata": {},
   "outputs": [],
   "source": [
    "event_type = bess_tags[bess_tags.Content_Event.isin([top_10_event_types.index[top_n]])]"
   ]
  },
  {
   "cell_type": "code",
   "execution_count": 95,
   "metadata": {},
   "outputs": [],
   "source": [
    "bio_distribution = event_type.loc[:,['biographyID','collectionID']].apply(lambda x: '_'.join(x),axis = 1).value_counts()"
   ]
  },
  {
   "cell_type": "code",
   "execution_count": 96,
   "metadata": {},
   "outputs": [
    {
     "data": {
      "text/plain": [
       "<Container object of 122 artists>"
      ]
     },
     "execution_count": 96,
     "metadata": {},
     "output_type": "execute_result"
    },
    {
     "data": {
      "image/png": "[encoded data removed]",
      "text/plain": [
       "<matplotlib.figure.Figure at 0x27bc4eca0b8>"
      ]
     },
     "metadata": {},
     "output_type": "display_data"
    }
   ],
   "source": [
    "plt.bar(bio_distribution.index, bio_distribution)"
   ]
  },
  {
   "cell_type": "code",
   "execution_count": 97,
   "metadata": {},
   "outputs": [
    {
     "data": {
      "text/plain": [
       "Lola Montez                            84\n",
       "Adrienne Lecouvreur                    78\n",
       "Teresa Gamba Guiccioli                 68\n",
       "Queen Elizabeth                        60\n",
       "Queen Victoria                         48\n",
       "Marguerite of Valois                   32\n",
       "Jeanne de Valois-Saint RÃ©my           31\n",
       "Henrietta Stuart                       29\n",
       "Marguerite, Countess of Blessington    23\n",
       "La Maupin                              22\n",
       "Ninon de Lenclos                       19\n",
       "Ninon de l'Enclos                      17\n",
       "Anna Brudenell                         16\n",
       "Marie de Chevreuse                     16\n",
       "Peg Woffington                         14\n",
       "Name: personaName, dtype: int64"
      ]
     },
     "execution_count": 97,
     "metadata": {},
     "output_type": "execute_result"
    }
   ],
   "source": [
    "event_type.personaName.value_counts()[0:15]"
   ]
  },
  {
   "cell_type": "code",
   "execution_count": null,
   "metadata": {},
   "outputs": [],
   "source": []
  },
  {
   "cell_type": "markdown",
   "metadata": {},
   "source": [
    "### 4. conversation_type"
   ]
  },
  {
   "cell_type": "code",
   "execution_count": 98,
   "metadata": {},
   "outputs": [
    {
     "data": {
      "text/plain": [
       "'father_agentType'"
      ]
     },
     "execution_count": 98,
     "metadata": {},
     "output_type": "execute_result"
    }
   ],
   "source": [
    "top_n = 4\n",
    "top_10_event_types.index[top_n]"
   ]
  },
  {
   "cell_type": "code",
   "execution_count": 99,
   "metadata": {},
   "outputs": [],
   "source": [
    "event_type = bess_tags[bess_tags.Content_Event.isin([top_10_event_types.index[top_n]])]"
   ]
  },
  {
   "cell_type": "code",
   "execution_count": 100,
   "metadata": {},
   "outputs": [],
   "source": [
    "bio_distribution = event_type.loc[:,['biographyID','collectionID']].apply(lambda x: '_'.join(x),axis = 1).value_counts()"
   ]
  },
  {
   "cell_type": "code",
   "execution_count": 101,
   "metadata": {},
   "outputs": [
    {
     "data": {
      "text/plain": [
       "<Container object of 196 artists>"
      ]
     },
     "execution_count": 101,
     "metadata": {},
     "output_type": "execute_result"
    },
    {
     "data": {
      "image/png": "[encoded data removed]",
      "text/plain": [
       "<matplotlib.figure.Figure at 0x27bc518b5f8>"
      ]
     },
     "metadata": {},
     "output_type": "display_data"
    }
   ],
   "source": [
    "plt.bar(bio_distribution.index, bio_distribution)"
   ]
  },
  {
   "cell_type": "code",
   "execution_count": 102,
   "metadata": {},
   "outputs": [
    {
     "data": {
      "text/plain": [
       "Sister Dora                60\n",
       "Frances Ridley Havergal    42\n",
       "Iphigenia                  40\n",
       "Calamity Jane              28\n",
       "Louisa May Alcott          26\n",
       "Lola Montez                24\n",
       "Mary Carpenter             24\n",
       "Grisell Baillie            21\n",
       "Anthony Trollope           21\n",
       "Elizabeth Fry              20\n",
       "Maria Edgeworth            17\n",
       "Frances Anne Kemble        16\n",
       "Princess Alice             16\n",
       "Grace Darling              15\n",
       "Sarah Curran               15\n",
       "Name: personaName, dtype: int64"
      ]
     },
     "execution_count": 102,
     "metadata": {},
     "output_type": "execute_result"
    }
   ],
   "source": [
    "event_type.personaName.value_counts()[0:15]"
   ]
  },
  {
   "cell_type": "code",
   "execution_count": null,
   "metadata": {},
   "outputs": [],
   "source": []
  }
 ],
 "metadata": {
  "kernelspec": {
   "display_name": "Python 3",
   "language": "python",
   "name": "python3"
  },
  "language_info": {
   "codemirror_mode": {
    "name": "ipython",
    "version": 3
   },
   "file_extension": ".py",
   "mimetype": "text/x-python",
   "name": "python",
   "nbconvert_exporter": "python",
   "pygments_lexer": "ipython3",
   "version": "3.6.4"
  }
 },
 "nbformat": 4,
 "nbformat_minor": 2
}
