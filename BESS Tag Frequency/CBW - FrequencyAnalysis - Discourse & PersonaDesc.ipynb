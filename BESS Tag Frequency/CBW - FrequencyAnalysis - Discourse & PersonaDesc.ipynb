{
 "cells": [
  {
   "cell_type": "code",
   "execution_count": 18,
   "metadata": {},
   "outputs": [],
   "source": [
    "import pandas as pd \n",
    "import numpy as np \n",
    "\n",
    "import matplotlib.pyplot as plt"
   ]
  },
  {
   "cell_type": "code",
   "execution_count": 5,
   "metadata": {},
   "outputs": [],
   "source": [
    "bess_tags = pd.read_csv('/Users/user/Documents/github/CBW/data/CBW_Bess_tags_final2.csv', encoding='ISO-8859-1')"
   ]
  },
  {
   "cell_type": "code",
   "execution_count": 6,
   "metadata": {},
   "outputs": [
    {
     "data": {
      "text/plain": [
       "Event                 79270\n",
       "discourse             43549\n",
       "topos                 19366\n",
       "stageOfLife           15749\n",
       "personaDescription    12710\n",
       "Name: Type, dtype: int64"
      ]
     },
     "execution_count": 6,
     "metadata": {},
     "output_type": "execute_result"
    }
   ],
   "source": [
    "bess_tags.Type.value_counts()"
   ]
  },
  {
   "cell_type": "markdown",
   "metadata": {},
   "source": [
    "# Top discourse "
   ]
  },
  {
   "cell_type": "code",
   "execution_count": 7,
   "metadata": {},
   "outputs": [
    {
     "data": {
      "text/plain": [
       "evaluation                                                     2320\n",
       "emphasis in typeface, punctuation                              2165\n",
       "quotation, agent's speech, unique                              1685\n",
       "present tense                                                  1667\n",
       "description of agent or identified set of agents               1572\n",
       "direct address, use of we                                      1517\n",
       "focalization, attributing feelings                             1175\n",
       "quotation, persona speech, unique                              1120\n",
       "speech, reported not quoted                                    1096\n",
       "quotation, unidentified                                         976\n",
       "digression or pause in life time                                965\n",
       "precepts                                                        841\n",
       "dialogue                                                        812\n",
       "quotation, persona writings about self                          807\n",
       "scene, life and discourse appear same pace                      798\n",
       "description of environment                                      777\n",
       "speculation, possible motives or causes                         731\n",
       "focalization, attributing thoughts                              679\n",
       "prospective or foreshadowing                                    674\n",
       "periods or times compared                                       668\n",
       "iterative, repeating or persistent                              658\n",
       "focalization, attributing motives                               643\n",
       "historiography, narration of historical events                  631\n",
       "summary, more, much or all life in less prose                   630\n",
       "quotation, agent's writing about persona                        627\n",
       "quotation, documentary source, persona's lifetime               548\n",
       "quotation, persona letters                                      507\n",
       "rhetorical question                                             500\n",
       "description of a kind of people or society (not individual)     463\n",
       "quotation, previous biography of persona                        463\n",
       "Name: Content, dtype: int64"
      ]
     },
     "execution_count": 7,
     "metadata": {},
     "output_type": "execute_result"
    }
   ],
   "source": [
    "top_discourse = bess_tags[bess_tags.Type == 'discourse'].Content.value_counts()[0:30]\n",
    "top_discourse"
   ]
  },
  {
   "cell_type": "markdown",
   "metadata": {},
   "source": [
    "## 1. Evaluation"
   ]
  },
  {
   "cell_type": "code",
   "execution_count": 8,
   "metadata": {},
   "outputs": [
    {
     "data": {
      "text/plain": [
       "Lola Montez                             166\n",
       "Sister Dora                             136\n",
       "Queen Victoria                          101\n",
       "Elizabeth Fry                            83\n",
       "Frances Trollope                         57\n",
       "Mata Hari, Marguerite Gertrude Zelle     55\n",
       "Agnes Weston                             51\n",
       "Princess Alice                           46\n",
       "Mary Carpenter                           44\n",
       "Florence Nightingale                     38\n",
       "Louisa May Alcott                        35\n",
       "Catherine Booth                          32\n",
       "Adrienne Lecouvreur                      31\n",
       "Hannah More                              30\n",
       "Sarah Robinson                           29\n",
       "Name: personaName, dtype: int64"
      ]
     },
     "execution_count": 8,
     "metadata": {},
     "output_type": "execute_result"
    }
   ],
   "source": [
    "\n",
    "discourse_type = bess_tags[bess_tags.Content.isin([top_discourse.index[0]])]\n",
    "discourse_type.personaName.value_counts()[0:15]"
   ]
  },
  {
   "cell_type": "markdown",
   "metadata": {},
   "source": [
    "## 2. Emphasis in typeface, punctuation     "
   ]
  },
  {
   "cell_type": "code",
   "execution_count": 10,
   "metadata": {},
   "outputs": [
    {
     "data": {
      "text/plain": [
       "Frances Ridley Havergal    107\n",
       "Agnes Weston                84\n",
       "Adrienne Lecouvreur         53\n",
       "Sister Dora                 53\n",
       "Queen Victoria              51\n",
       "Princess Alice              50\n",
       "Sarah Robinson              49\n",
       "Mary Carpenter              48\n",
       "Lola Montez                 47\n",
       "Elizabeth Fry               45\n",
       "Florence Nightingale        44\n",
       "Ninon de l'Enclos           36\n",
       "Elizabeth Chudleigh         34\n",
       "Teresa Gamba Guiccioli      33\n",
       "Anna Brudenell              32\n",
       "Name: personaName, dtype: int64"
      ]
     },
     "execution_count": 10,
     "metadata": {},
     "output_type": "execute_result"
    }
   ],
   "source": [
    "discourse_type = bess_tags[bess_tags.Content.isin([top_discourse.index[1]])]\n",
    "discourse_type.personaName.value_counts()[0:15]"
   ]
  },
  {
   "cell_type": "markdown",
   "metadata": {},
   "source": [
    "## 3. quotation, agent's speech, unique      "
   ]
  },
  {
   "cell_type": "code",
   "execution_count": 11,
   "metadata": {},
   "outputs": [
    {
     "data": {
      "text/plain": [
       "Sister Dora                             158\n",
       "Lola Montez                              91\n",
       "Agnes Weston                             86\n",
       "Antigone                                 61\n",
       "Mata Hari, Marguerite Gertrude Zelle     59\n",
       "Queen Victoria                           48\n",
       "Iphigenia                                44\n",
       "Frances Ridley Havergal                  36\n",
       "Calamity Jane                            34\n",
       "Jeanne de Valois-Saint RÃÂ©my           28\n",
       "Patrick Hull                             28\n",
       "Charlotte Elizabth Tonna                 24\n",
       "Julia Maupin                             23\n",
       "Marguerite of Valois                     22\n",
       "Dorothea Jordan                          21\n",
       "Name: personaName, dtype: int64"
      ]
     },
     "execution_count": 11,
     "metadata": {},
     "output_type": "execute_result"
    }
   ],
   "source": [
    "discourse_type = bess_tags[bess_tags.Content.isin([top_discourse.index[2]])]\n",
    "discourse_type.personaName.value_counts()[0:15]"
   ]
  },
  {
   "cell_type": "markdown",
   "metadata": {},
   "source": [
    "## 4. Present tense"
   ]
  },
  {
   "cell_type": "code",
   "execution_count": 12,
   "metadata": {},
   "outputs": [
    {
     "data": {
      "text/plain": [
       "Agnes Weston               105\n",
       "Queen Victoria              64\n",
       "Florence Nightingale        52\n",
       "Cleopatra                   50\n",
       "Frances Trollope            49\n",
       "Frances Ridley Havergal     40\n",
       "Emma, Lady Hamilton         39\n",
       "Sister Dora                 37\n",
       "Baroness Burdett-Coutts     37\n",
       "Zenobia                     35\n",
       "Sarah Robinson              34\n",
       "Jane Welsh Carlyle          31\n",
       "Elizabeth Fry               31\n",
       "Catalina de Erauso          30\n",
       "Adrienne Lecouvreur         28\n",
       "Name: personaName, dtype: int64"
      ]
     },
     "execution_count": 12,
     "metadata": {},
     "output_type": "execute_result"
    }
   ],
   "source": [
    "discourse_type = bess_tags[bess_tags.Content.isin([top_discourse.index[3]])]\n",
    "discourse_type.personaName.value_counts()[0:15]"
   ]
  },
  {
   "cell_type": "markdown",
   "metadata": {},
   "source": [
    "## 5. Description of agent or identified set of agents   "
   ]
  },
  {
   "cell_type": "code",
   "execution_count": 13,
   "metadata": {},
   "outputs": [
    {
     "data": {
      "text/plain": [
       "Lola Montez                             81\n",
       "Elizabeth Fry                           59\n",
       "Mata Hari, Marguerite Gertrude Zelle    58\n",
       "Mary Carpenter                          48\n",
       "Queen Victoria                          44\n",
       "Calamity Jane                           36\n",
       "Cleopatra                               32\n",
       "Agnes Weston                            29\n",
       "Tarabai Rani                            28\n",
       "Florence Nightingale                    26\n",
       "Adrienne Lecouvreur                     25\n",
       "Frances Trollope                        25\n",
       "Sarah Robinson                          24\n",
       "Princess Alice                          24\n",
       "Marie de Rohan                          23\n",
       "Name: personaName, dtype: int64"
      ]
     },
     "execution_count": 13,
     "metadata": {},
     "output_type": "execute_result"
    }
   ],
   "source": [
    "discourse_type = bess_tags[bess_tags.Content.isin([top_discourse.index[4]])]\n",
    "discourse_type.personaName.value_counts()[0:15]"
   ]
  },
  {
   "cell_type": "markdown",
   "metadata": {},
   "source": [
    "# Top persona descriptions"
   ]
  },
  {
   "cell_type": "code",
   "execution_count": 14,
   "metadata": {},
   "outputs": [
    {
     "data": {
      "text/plain": [
       "beautiful                 538\n",
       "dedicated or devoted      403\n",
       "energetic or untiring     343\n",
       "brave                     332\n",
       "happy                     293\n",
       "intelligent               272\n",
       "loving                    236\n",
       "skilled, in occupation    228\n",
       "sympathetic               225\n",
       "self-sacrificing          214\n",
       "Name: Content, dtype: int64"
      ]
     },
     "execution_count": 14,
     "metadata": {},
     "output_type": "execute_result"
    }
   ],
   "source": [
    "top_per = bess_tags[bess_tags.Type == 'personaDescription'].Content.value_counts()[0:10]\n",
    "top_per"
   ]
  },
  {
   "cell_type": "markdown",
   "metadata": {},
   "source": [
    "## 1. Beautiful "
   ]
  },
  {
   "cell_type": "code",
   "execution_count": 15,
   "metadata": {},
   "outputs": [
    {
     "data": {
      "text/plain": [
       "Lola Montez                        90\n",
       "Sister Dora                        53\n",
       "Helen of Troy                      16\n",
       "Queen Victoria                     13\n",
       "Peg Woffington                     11\n",
       "Adrienne Lecouvreur                10\n",
       "Jeanne Becu                        10\n",
       "Jeanne Recamier                    10\n",
       "Marie de Chevreuse                  9\n",
       "Bianca Capello                      9\n",
       "Ninon de l'Enclos                   9\n",
       "Anne Caulfeild, Lady Charlemont     8\n",
       "Princess of Wales                   8\n",
       "Pauline Borghese                    8\n",
       "Frances Ridley Havergal             8\n",
       "Name: personaName, dtype: int64"
      ]
     },
     "execution_count": 15,
     "metadata": {},
     "output_type": "execute_result"
    }
   ],
   "source": [
    "persona_type = bess_tags[bess_tags.Content.isin([top_per.index[0]])]\n",
    "persona_type.personaName.value_counts()[0:15]"
   ]
  },
  {
   "cell_type": "code",
   "execution_count": 20,
   "metadata": {},
   "outputs": [
    {
     "name": "stdout",
     "output_type": "stream",
     "text": [
      "Current size: [6.0, 4.0]\n"
     ]
    }
   ],
   "source": [
    "# Get current size\n",
    "fig_size = plt.rcParams[\"figure.figsize\"]\n",
    " \n",
    "# Prints: [8.0, 6.0]\n",
    "print(\"Current size:\", fig_size)\n",
    " \n",
    "# Set figure width to 15 and height to 9\n",
    "fig_size[0] = 15\n",
    "fig_size[1] = 9\n",
    "plt.rcParams[\"figure.figsize\"] = fig_size\n",
    "\n"
   ]
  },
  {
   "cell_type": "code",
   "execution_count": 21,
   "metadata": {},
   "outputs": [
    {
     "data": {
      "image/png": "[encoded data removed]",
      "text/plain": [
       "<Figure size 1080x648 with 1 Axes>"
      ]
     },
     "metadata": {},
     "output_type": "display_data"
    }
   ],
   "source": [
    "bio_distribution = persona_type.loc[:,['biographyID','collectionID']].apply(lambda x: '_'.join(x),axis = 1).value_counts()\n",
    "figure = plt.bar(bio_distribution.index[:10], bio_distribution[:10])"
   ]
  },
  {
   "cell_type": "markdown",
   "metadata": {},
   "source": [
    "## 2. Dedicated or devoted "
   ]
  },
  {
   "cell_type": "code",
   "execution_count": 22,
   "metadata": {},
   "outputs": [
    {
     "data": {
      "text/plain": [
       "Sister Dora             112\n",
       "Mary Carpenter           22\n",
       "Florence Nightingale     21\n",
       "Caroline Herschel        19\n",
       "Anthony Trollope         12\n",
       "Elizabeth Fry            10\n",
       "Agnes Weston             10\n",
       "Agnes Jones               9\n",
       "Princess Alice            9\n",
       "Frances Trollope          9\n",
       "Louisa Daniell            8\n",
       "Frances Willard           7\n",
       "Queen Victoria            7\n",
       "Louisa May Alcott         7\n",
       "Sarah Robinson            7\n",
       "Name: personaName, dtype: int64"
      ]
     },
     "execution_count": 22,
     "metadata": {},
     "output_type": "execute_result"
    }
   ],
   "source": [
    "persona_type = bess_tags[bess_tags.Content.isin([top_per.index[1]])]\n",
    "persona_type.personaName.value_counts()[0:15]"
   ]
  },
  {
   "cell_type": "code",
   "execution_count": 23,
   "metadata": {},
   "outputs": [
    {
     "data": {
      "image/png": "[encoded data removed]",
      "text/plain": [
       "<Figure size 1080x648 with 1 Axes>"
      ]
     },
     "metadata": {},
     "output_type": "display_data"
    }
   ],
   "source": [
    "bio_distribution = persona_type.loc[:,['biographyID','collectionID']].apply(lambda x: '_'.join(x),axis = 1).value_counts()\n",
    "figure = plt.bar(bio_distribution.index[:10], bio_distribution[:10])"
   ]
  },
  {
   "cell_type": "markdown",
   "metadata": {},
   "source": [
    "## 3. Energetic or untiring "
   ]
  },
  {
   "cell_type": "code",
   "execution_count": 24,
   "metadata": {},
   "outputs": [
    {
     "data": {
      "text/plain": [
       "Sister Dora             90\n",
       "Agnes Weston            15\n",
       "Caroline Herschel       15\n",
       "Mary Carpenter          15\n",
       "Sarah Robinson          13\n",
       "Frances Trollope        12\n",
       "Catherine Booth         12\n",
       "Florence Nightingale    12\n",
       "Queen Victoria          11\n",
       "Lola Montez              9\n",
       "Frances Willard          8\n",
       "Hannah More              8\n",
       "Elizabeth Fry            6\n",
       "Agnes Jones              6\n",
       "Louisa May Alcott        6\n",
       "Name: personaName, dtype: int64"
      ]
     },
     "execution_count": 24,
     "metadata": {},
     "output_type": "execute_result"
    }
   ],
   "source": [
    "persona_type = bess_tags[bess_tags.Content.isin([top_per.index[2]])]\n",
    "persona_type.personaName.value_counts()[0:15]"
   ]
  },
  {
   "cell_type": "code",
   "execution_count": 25,
   "metadata": {},
   "outputs": [
    {
     "data": {
      "image/png": "[encoded data removed]",
      "text/plain": [
       "<Figure size 1080x648 with 1 Axes>"
      ]
     },
     "metadata": {},
     "output_type": "display_data"
    }
   ],
   "source": [
    "bio_distribution = persona_type.loc[:,['biographyID','collectionID']].apply(lambda x: '_'.join(x),axis = 1).value_counts()\n",
    "figure = plt.bar(bio_distribution.index[:10], bio_distribution[:10])"
   ]
  },
  {
   "cell_type": "markdown",
   "metadata": {},
   "source": [
    "## 4. Brave "
   ]
  },
  {
   "cell_type": "code",
   "execution_count": 27,
   "metadata": {},
   "outputs": [
    {
     "data": {
      "text/plain": [
       "Sister Dora                       75\n",
       "Lola Montez                       16\n",
       "Sarah Robinson                    11\n",
       "Calamity Jane                     10\n",
       "Princess Alice                     9\n",
       "Florence Nightingale               8\n",
       "Catherine Booth                    8\n",
       "Queen Victoria                     8\n",
       "Jeanne de Valois-Saint RÃÂ©my     7\n",
       "Louisa May Alcott                  7\n",
       "Lucretia Mott                      7\n",
       "Joan of Arc                        6\n",
       "Dorothea Jordan                    6\n",
       "Flora MacDonald                    6\n",
       "Grace Darling                      6\n",
       "Name: personaName, dtype: int64"
      ]
     },
     "execution_count": 27,
     "metadata": {},
     "output_type": "execute_result"
    }
   ],
   "source": [
    "persona_type = bess_tags[bess_tags.Content.isin([top_per.index[3]])]\n",
    "persona_type.personaName.value_counts()[0:15]"
   ]
  },
  {
   "cell_type": "code",
   "execution_count": 28,
   "metadata": {},
   "outputs": [
    {
     "data": {
      "image/png": "[encoded data removed]",
      "text/plain": [
       "<Figure size 1080x648 with 1 Axes>"
      ]
     },
     "metadata": {},
     "output_type": "display_data"
    }
   ],
   "source": [
    "bio_distribution = persona_type.loc[:,['biographyID','collectionID']].apply(lambda x: '_'.join(x),axis = 1).value_counts()\n",
    "figure = plt.bar(bio_distribution.index[:10], bio_distribution[:10])"
   ]
  },
  {
   "cell_type": "code",
   "execution_count": 29,
   "metadata": {},
   "outputs": [
    {
     "data": {
      "text/plain": [
       "Frances Trollope                     24\n",
       "Sister Dora                          21\n",
       "Frances Ridley Havergal              21\n",
       "Queen Victoria                       17\n",
       "Princess Alice                       11\n",
       "Anthony Trollope                      9\n",
       "Nell Gwyn                             7\n",
       "Felicia Dorothea Hemans               6\n",
       "Lola Montez                           6\n",
       "Catherine Booth                       6\n",
       "Mary Somerville                       5\n",
       "Hannah Whitall Smith                  5\n",
       "Marie-Caroline, Duchesse de Barry     5\n",
       "Fanny Crosby                          5\n",
       "Elizabeth Fry                         5\n",
       "Name: personaName, dtype: int64"
      ]
     },
     "execution_count": 29,
     "metadata": {},
     "output_type": "execute_result"
    }
   ],
   "source": [
    "#happy\n",
    "persona_type = bess_tags[bess_tags.Content.isin([top_per.index[4]])]\n",
    "persona_type.personaName.value_counts()[0:15]"
   ]
  },
  {
   "cell_type": "code",
   "execution_count": 30,
   "metadata": {},
   "outputs": [
    {
     "data": {
      "text/plain": [
       "Sister Dora                54\n",
       "Lola Montez                13\n",
       "Frances Ridley Havergal    11\n",
       "Florence Nightingale       10\n",
       "Mary Lamb                  10\n",
       "Mary Carpenter              7\n",
       "Felicia Hemans              7\n",
       "Mary Somerville             6\n",
       "Queen Victoria              5\n",
       "Caroline Herschel           5\n",
       "Jane Welsh Carlyle          5\n",
       "Hannah More                 4\n",
       "Belle Starr                 4\n",
       "Lucretia Mott               4\n",
       "Harriet Beecher Stowe       3\n",
       "Name: personaName, dtype: int64"
      ]
     },
     "execution_count": 30,
     "metadata": {},
     "output_type": "execute_result"
    }
   ],
   "source": [
    "#intelligent\n",
    "persona_type = bess_tags[bess_tags.Content.isin([top_per.index[5]])]\n",
    "persona_type.personaName.value_counts()[0:15]"
   ]
  },
  {
   "cell_type": "code",
   "execution_count": 31,
   "metadata": {},
   "outputs": [
    {
     "data": {
      "text/plain": [
       "Sister Dora                62\n",
       "Queen Victoria             19\n",
       "Elizabeth Fry              10\n",
       "Mary Carpenter              9\n",
       "Frances Ridley Havergal     8\n",
       "Adrienne Lecouvreur         7\n",
       "Mary Lamb                   7\n",
       "Emma, Lady Hamilton         6\n",
       "Caroline Herschel           6\n",
       "George Sand                 6\n",
       "Princess Mary Adelaide      4\n",
       "Maud Ballington Booth       4\n",
       "Catherine Gladstone         4\n",
       "Louisa Queen of Prussia     4\n",
       "Florence Nightingale        4\n",
       "Name: personaName, dtype: int64"
      ]
     },
     "execution_count": 31,
     "metadata": {},
     "output_type": "execute_result"
    }
   ],
   "source": [
    "#loving\n",
    "persona_type = bess_tags[bess_tags.Content.isin([top_per.index[6]])]\n",
    "persona_type.personaName.value_counts()[0:15]"
   ]
  },
  {
   "cell_type": "code",
   "execution_count": 32,
   "metadata": {},
   "outputs": [
    {
     "data": {
      "text/plain": [
       "Sister Dora                58\n",
       "Anthony Trollope           15\n",
       "Dorothea Jordan            11\n",
       "Lola Montez                10\n",
       "Eliza O'Neill               9\n",
       "Jenny Lind                  6\n",
       "Frances Trollope            6\n",
       "Florence Nightingale        6\n",
       "Madame Moustache            5\n",
       "Adrienne Lecouvreur         5\n",
       "Felicia Dorothea Hemans     5\n",
       "Hannah Adams                5\n",
       "Catherine Booth             4\n",
       "Marie Taglioni              3\n",
       "Marianne North              3\n",
       "Name: personaName, dtype: int64"
      ]
     },
     "execution_count": 32,
     "metadata": {},
     "output_type": "execute_result"
    }
   ],
   "source": [
    "#Skilled in occupatopm\n",
    "persona_type = bess_tags[bess_tags.Content.isin([top_per.index[7]])]\n",
    "persona_type.personaName.value_counts()[0:15]"
   ]
  },
  {
   "cell_type": "code",
   "execution_count": null,
   "metadata": {},
   "outputs": [],
   "source": []
  }
 ],
 "metadata": {
  "kernelspec": {
   "display_name": "Python 3",
   "language": "python",
   "name": "python3"
  },
  "language_info": {
   "codemirror_mode": {
    "name": "ipython",
    "version": 3
   },
   "file_extension": ".py",
   "mimetype": "text/x-python",
   "name": "python",
   "nbconvert_exporter": "python",
   "pygments_lexer": "ipython3",
   "version": "3.6.5"
  }
 },
 "nbformat": 4,
 "nbformat_minor": 2
}
