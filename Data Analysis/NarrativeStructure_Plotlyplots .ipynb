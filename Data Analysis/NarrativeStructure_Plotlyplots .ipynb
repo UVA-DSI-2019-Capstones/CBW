{
 "cells": [
  {
   "cell_type": "code",
   "execution_count": 205,
   "metadata": {},
   "outputs": [],
   "source": [
    "import pandas as pd\n",
    "import numpy as np"
   ]
  },
  {
   "cell_type": "code",
   "execution_count": 206,
   "metadata": {},
   "outputs": [],
   "source": [
    "bess_tags = pd.read_csv('/Users/user/Documents/CBW/Data/final/CBW_Bess_tags_final2.csv', encoding='ISO-8859-1')"
   ]
  },
  {
   "cell_type": "code",
   "execution_count": 207,
   "metadata": {},
   "outputs": [],
   "source": [
    "textdata_sent = pd.read_csv('/Users/user/Documents/CBW/Data/final/text_data_sent.csv', encoding='ISO-8859-1')"
   ]
  },
  {
   "cell_type": "code",
   "execution_count": 208,
   "metadata": {},
   "outputs": [
    {
     "data": {
      "text/plain": [
       "(306, 2)"
      ]
     },
     "execution_count": 208,
     "metadata": {},
     "output_type": "execute_result"
    }
   ],
   "source": [
    "bess_tags[['biographyID','collectionID']].drop_duplicates().shape"
   ]
  },
  {
   "cell_type": "code",
   "execution_count": 209,
   "metadata": {},
   "outputs": [
    {
     "data": {
      "text/html": [
       "<div>\n",
       "<style scoped>\n",
       "    .dataframe tbody tr th:only-of-type {\n",
       "        vertical-align: middle;\n",
       "    }\n",
       "\n",
       "    .dataframe tbody tr th {\n",
       "        vertical-align: top;\n",
       "    }\n",
       "\n",
       "    .dataframe thead th {\n",
       "        text-align: right;\n",
       "    }\n",
       "</style>\n",
       "<table border=\"1\" class=\"dataframe\">\n",
       "  <thead>\n",
       "    <tr style=\"text-align: right;\">\n",
       "      <th></th>\n",
       "      <th>Content</th>\n",
       "      <th>Event</th>\n",
       "      <th>Type</th>\n",
       "      <th>para no</th>\n",
       "      <th>URI</th>\n",
       "      <th>author</th>\n",
       "      <th>biographyID</th>\n",
       "      <th>collectionID</th>\n",
       "      <th>personaName</th>\n",
       "      <th>title</th>\n",
       "    </tr>\n",
       "  </thead>\n",
       "  <tbody>\n",
       "    <tr>\n",
       "      <th>0</th>\n",
       "      <td>after</td>\n",
       "      <td>name</td>\n",
       "      <td>stageOfLife</td>\n",
       "      <td>1.0</td>\n",
       "      <td>a001.bio04.bess.xml</td>\n",
       "      <td>Willis John Abbot</td>\n",
       "      <td>bio04</td>\n",
       "      <td>a001</td>\n",
       "      <td>Cleopatra</td>\n",
       "      <td>Cleopatra (B.C. 69-30): The World's Most Famou...</td>\n",
       "    </tr>\n",
       "    <tr>\n",
       "      <th>1</th>\n",
       "      <td>culmination</td>\n",
       "      <td>name</td>\n",
       "      <td>stageOfLife</td>\n",
       "      <td>1.0</td>\n",
       "      <td>a001.bio04.bess.xml</td>\n",
       "      <td>Willis John Abbot</td>\n",
       "      <td>bio04</td>\n",
       "      <td>a001</td>\n",
       "      <td>Cleopatra</td>\n",
       "      <td>Cleopatra (B.C. 69-30): The World's Most Famou...</td>\n",
       "    </tr>\n",
       "    <tr>\n",
       "      <th>2</th>\n",
       "      <td>middle</td>\n",
       "      <td>name</td>\n",
       "      <td>stageOfLife</td>\n",
       "      <td>2.0</td>\n",
       "      <td>a001.bio04.bess.xml</td>\n",
       "      <td>Willis John Abbot</td>\n",
       "      <td>bio04</td>\n",
       "      <td>a001</td>\n",
       "      <td>Cleopatra</td>\n",
       "      <td>Cleopatra (B.C. 69-30): The World's Most Famou...</td>\n",
       "    </tr>\n",
       "    <tr>\n",
       "      <th>3</th>\n",
       "      <td>middle</td>\n",
       "      <td>name</td>\n",
       "      <td>stageOfLife</td>\n",
       "      <td>3.0</td>\n",
       "      <td>a001.bio04.bess.xml</td>\n",
       "      <td>Willis John Abbot</td>\n",
       "      <td>bio04</td>\n",
       "      <td>a001</td>\n",
       "      <td>Cleopatra</td>\n",
       "      <td>Cleopatra (B.C. 69-30): The World's Most Famou...</td>\n",
       "    </tr>\n",
       "    <tr>\n",
       "      <th>4</th>\n",
       "      <td>middle</td>\n",
       "      <td>name</td>\n",
       "      <td>stageOfLife</td>\n",
       "      <td>4.0</td>\n",
       "      <td>a001.bio04.bess.xml</td>\n",
       "      <td>Willis John Abbot</td>\n",
       "      <td>bio04</td>\n",
       "      <td>a001</td>\n",
       "      <td>Cleopatra</td>\n",
       "      <td>Cleopatra (B.C. 69-30): The World's Most Famou...</td>\n",
       "    </tr>\n",
       "  </tbody>\n",
       "</table>\n",
       "</div>"
      ],
      "text/plain": [
       "       Content Event         Type  para no                  URI  \\\n",
       "0        after  name  stageOfLife      1.0  a001.bio04.bess.xml   \n",
       "1  culmination  name  stageOfLife      1.0  a001.bio04.bess.xml   \n",
       "2       middle  name  stageOfLife      2.0  a001.bio04.bess.xml   \n",
       "3       middle  name  stageOfLife      3.0  a001.bio04.bess.xml   \n",
       "4       middle  name  stageOfLife      4.0  a001.bio04.bess.xml   \n",
       "\n",
       "              author biographyID collectionID personaName  \\\n",
       "0  Willis John Abbot       bio04         a001   Cleopatra   \n",
       "1  Willis John Abbot       bio04         a001   Cleopatra   \n",
       "2  Willis John Abbot       bio04         a001   Cleopatra   \n",
       "3  Willis John Abbot       bio04         a001   Cleopatra   \n",
       "4  Willis John Abbot       bio04         a001   Cleopatra   \n",
       "\n",
       "                                               title  \n",
       "0  Cleopatra (B.C. 69-30): The World's Most Famou...  \n",
       "1  Cleopatra (B.C. 69-30): The World's Most Famou...  \n",
       "2  Cleopatra (B.C. 69-30): The World's Most Famou...  \n",
       "3  Cleopatra (B.C. 69-30): The World's Most Famou...  \n",
       "4  Cleopatra (B.C. 69-30): The World's Most Famou...  "
      ]
     },
     "execution_count": 209,
     "metadata": {},
     "output_type": "execute_result"
    }
   ],
   "source": [
    "bess_tags.head()"
   ]
  },
  {
   "cell_type": "code",
   "execution_count": 210,
   "metadata": {},
   "outputs": [],
   "source": [
    "#bess_tags.loc[bess_tags['para no'].isnull(), 'para no'] = 0\n",
    "\n",
    "bess_tags = bess_tags[~bess_tags['para no'].isnull()]"
   ]
  },
  {
   "cell_type": "code",
   "execution_count": 211,
   "metadata": {},
   "outputs": [],
   "source": [
    "bess_tags['para no']=bess_tags['para no'].astype(int)"
   ]
  },
  {
   "cell_type": "code",
   "execution_count": 212,
   "metadata": {},
   "outputs": [],
   "source": [
    "textdata_sent['para_key']= textdata_sent.CollectionID.apply(str) + '_' + textdata_sent.BiographyID.apply(str)+ '_' + textdata_sent.ParagraphNo.apply(str) \n",
    "bess_tags['para_key']= bess_tags.collectionID.apply(str) + '_' + bess_tags.biographyID.apply(str)+ '_' + bess_tags['para no'].apply(str) "
   ]
  },
  {
   "cell_type": "code",
   "execution_count": 213,
   "metadata": {},
   "outputs": [],
   "source": [
    "groupbykey =textdata_sent.groupby('para_key')['score'].mean()\n",
    "groupbykey = pd.DataFrame(groupbykey)"
   ]
  },
  {
   "cell_type": "code",
   "execution_count": 214,
   "metadata": {},
   "outputs": [
    {
     "data": {
      "text/html": [
       "<div>\n",
       "<style scoped>\n",
       "    .dataframe tbody tr th:only-of-type {\n",
       "        vertical-align: middle;\n",
       "    }\n",
       "\n",
       "    .dataframe tbody tr th {\n",
       "        vertical-align: top;\n",
       "    }\n",
       "\n",
       "    .dataframe thead th {\n",
       "        text-align: right;\n",
       "    }\n",
       "</style>\n",
       "<table border=\"1\" class=\"dataframe\">\n",
       "  <thead>\n",
       "    <tr style=\"text-align: right;\">\n",
       "      <th></th>\n",
       "      <th>score</th>\n",
       "    </tr>\n",
       "    <tr>\n",
       "      <th>para_key</th>\n",
       "      <th></th>\n",
       "    </tr>\n",
       "  </thead>\n",
       "  <tbody>\n",
       "    <tr>\n",
       "      <th>a001_bio04_1</th>\n",
       "      <td>0.290669</td>\n",
       "    </tr>\n",
       "    <tr>\n",
       "      <th>a001_bio04_2</th>\n",
       "      <td>0.000000</td>\n",
       "    </tr>\n",
       "    <tr>\n",
       "      <th>a001_bio04_3</th>\n",
       "      <td>0.376424</td>\n",
       "    </tr>\n",
       "    <tr>\n",
       "      <th>a001_bio04_4</th>\n",
       "      <td>-0.077556</td>\n",
       "    </tr>\n",
       "    <tr>\n",
       "      <th>a001_bio04_5</th>\n",
       "      <td>0.452558</td>\n",
       "    </tr>\n",
       "  </tbody>\n",
       "</table>\n",
       "</div>"
      ],
      "text/plain": [
       "                 score\n",
       "para_key              \n",
       "a001_bio04_1  0.290669\n",
       "a001_bio04_2  0.000000\n",
       "a001_bio04_3  0.376424\n",
       "a001_bio04_4 -0.077556\n",
       "a001_bio04_5  0.452558"
      ]
     },
     "execution_count": 214,
     "metadata": {},
     "output_type": "execute_result"
    }
   ],
   "source": [
    "groupbykey.head()"
   ]
  },
  {
   "cell_type": "code",
   "execution_count": 215,
   "metadata": {},
   "outputs": [],
   "source": [
    "bess_new = bess_tags[['para_key','author', 'personaName', 'para no','biographyID','collectionID']].drop_duplicates()"
   ]
  },
  {
   "cell_type": "code",
   "execution_count": 216,
   "metadata": {},
   "outputs": [],
   "source": [
    "avg_sentiment = pd.merge(groupbykey, bess_new,on='para_key', how='left')"
   ]
  },
  {
   "cell_type": "code",
   "execution_count": 217,
   "metadata": {},
   "outputs": [
    {
     "data": {
      "text/html": [
       "<div>\n",
       "<style scoped>\n",
       "    .dataframe tbody tr th:only-of-type {\n",
       "        vertical-align: middle;\n",
       "    }\n",
       "\n",
       "    .dataframe tbody tr th {\n",
       "        vertical-align: top;\n",
       "    }\n",
       "\n",
       "    .dataframe thead th {\n",
       "        text-align: right;\n",
       "    }\n",
       "</style>\n",
       "<table border=\"1\" class=\"dataframe\">\n",
       "  <thead>\n",
       "    <tr style=\"text-align: right;\">\n",
       "      <th></th>\n",
       "      <th>para_key</th>\n",
       "      <th>score</th>\n",
       "      <th>author</th>\n",
       "      <th>personaName</th>\n",
       "      <th>para no</th>\n",
       "      <th>biographyID</th>\n",
       "      <th>collectionID</th>\n",
       "    </tr>\n",
       "  </thead>\n",
       "  <tbody>\n",
       "    <tr>\n",
       "      <th>0</th>\n",
       "      <td>a001_bio04_1</td>\n",
       "      <td>0.290669</td>\n",
       "      <td>Willis John Abbot</td>\n",
       "      <td>Cleopatra</td>\n",
       "      <td>1.0</td>\n",
       "      <td>bio04</td>\n",
       "      <td>a001</td>\n",
       "    </tr>\n",
       "    <tr>\n",
       "      <th>1</th>\n",
       "      <td>a001_bio04_2</td>\n",
       "      <td>0.000000</td>\n",
       "      <td>Willis John Abbot</td>\n",
       "      <td>Cleopatra</td>\n",
       "      <td>2.0</td>\n",
       "      <td>bio04</td>\n",
       "      <td>a001</td>\n",
       "    </tr>\n",
       "    <tr>\n",
       "      <th>2</th>\n",
       "      <td>a001_bio04_3</td>\n",
       "      <td>0.376424</td>\n",
       "      <td>Willis John Abbot</td>\n",
       "      <td>Cleopatra</td>\n",
       "      <td>3.0</td>\n",
       "      <td>bio04</td>\n",
       "      <td>a001</td>\n",
       "    </tr>\n",
       "    <tr>\n",
       "      <th>3</th>\n",
       "      <td>a001_bio04_4</td>\n",
       "      <td>-0.077556</td>\n",
       "      <td>Willis John Abbot</td>\n",
       "      <td>Cleopatra</td>\n",
       "      <td>4.0</td>\n",
       "      <td>bio04</td>\n",
       "      <td>a001</td>\n",
       "    </tr>\n",
       "    <tr>\n",
       "      <th>4</th>\n",
       "      <td>a001_bio04_5</td>\n",
       "      <td>0.452558</td>\n",
       "      <td>Willis John Abbot</td>\n",
       "      <td>Cleopatra</td>\n",
       "      <td>5.0</td>\n",
       "      <td>bio04</td>\n",
       "      <td>a001</td>\n",
       "    </tr>\n",
       "  </tbody>\n",
       "</table>\n",
       "</div>"
      ],
      "text/plain": [
       "       para_key     score             author personaName  para no biographyID  \\\n",
       "0  a001_bio04_1  0.290669  Willis John Abbot   Cleopatra      1.0       bio04   \n",
       "1  a001_bio04_2  0.000000  Willis John Abbot   Cleopatra      2.0       bio04   \n",
       "2  a001_bio04_3  0.376424  Willis John Abbot   Cleopatra      3.0       bio04   \n",
       "3  a001_bio04_4 -0.077556  Willis John Abbot   Cleopatra      4.0       bio04   \n",
       "4  a001_bio04_5  0.452558  Willis John Abbot   Cleopatra      5.0       bio04   \n",
       "\n",
       "  collectionID  \n",
       "0         a001  \n",
       "1         a001  \n",
       "2         a001  \n",
       "3         a001  \n",
       "4         a001  "
      ]
     },
     "execution_count": 217,
     "metadata": {},
     "output_type": "execute_result"
    }
   ],
   "source": [
    "avg_sentiment.head()"
   ]
  },
  {
   "cell_type": "code",
   "execution_count": 218,
   "metadata": {},
   "outputs": [],
   "source": [
    "total_paras = avg_sentiment.groupby(['collectionID','biographyID'],as_index=False)['para no'].max()"
   ]
  },
  {
   "cell_type": "code",
   "execution_count": 219,
   "metadata": {},
   "outputs": [],
   "source": [
    "avg_sentiment = pd.merge(avg_sentiment,total_paras,how = 'left', on = ['biographyID','collectionID'])"
   ]
  },
  {
   "cell_type": "code",
   "execution_count": 220,
   "metadata": {},
   "outputs": [
    {
     "data": {
      "text/html": [
       "<div>\n",
       "<style scoped>\n",
       "    .dataframe tbody tr th:only-of-type {\n",
       "        vertical-align: middle;\n",
       "    }\n",
       "\n",
       "    .dataframe tbody tr th {\n",
       "        vertical-align: top;\n",
       "    }\n",
       "\n",
       "    .dataframe thead th {\n",
       "        text-align: right;\n",
       "    }\n",
       "</style>\n",
       "<table border=\"1\" class=\"dataframe\">\n",
       "  <thead>\n",
       "    <tr style=\"text-align: right;\">\n",
       "      <th></th>\n",
       "      <th>para_key</th>\n",
       "      <th>score</th>\n",
       "      <th>author</th>\n",
       "      <th>personaName</th>\n",
       "      <th>para no_x</th>\n",
       "      <th>biographyID</th>\n",
       "      <th>collectionID</th>\n",
       "      <th>para no_y</th>\n",
       "    </tr>\n",
       "  </thead>\n",
       "  <tbody>\n",
       "    <tr>\n",
       "      <th>0</th>\n",
       "      <td>a001_bio04_1</td>\n",
       "      <td>0.290669</td>\n",
       "      <td>Willis John Abbot</td>\n",
       "      <td>Cleopatra</td>\n",
       "      <td>1.0</td>\n",
       "      <td>bio04</td>\n",
       "      <td>a001</td>\n",
       "      <td>9.0</td>\n",
       "    </tr>\n",
       "    <tr>\n",
       "      <th>1</th>\n",
       "      <td>a001_bio04_2</td>\n",
       "      <td>0.000000</td>\n",
       "      <td>Willis John Abbot</td>\n",
       "      <td>Cleopatra</td>\n",
       "      <td>2.0</td>\n",
       "      <td>bio04</td>\n",
       "      <td>a001</td>\n",
       "      <td>9.0</td>\n",
       "    </tr>\n",
       "    <tr>\n",
       "      <th>2</th>\n",
       "      <td>a001_bio04_3</td>\n",
       "      <td>0.376424</td>\n",
       "      <td>Willis John Abbot</td>\n",
       "      <td>Cleopatra</td>\n",
       "      <td>3.0</td>\n",
       "      <td>bio04</td>\n",
       "      <td>a001</td>\n",
       "      <td>9.0</td>\n",
       "    </tr>\n",
       "    <tr>\n",
       "      <th>3</th>\n",
       "      <td>a001_bio04_4</td>\n",
       "      <td>-0.077556</td>\n",
       "      <td>Willis John Abbot</td>\n",
       "      <td>Cleopatra</td>\n",
       "      <td>4.0</td>\n",
       "      <td>bio04</td>\n",
       "      <td>a001</td>\n",
       "      <td>9.0</td>\n",
       "    </tr>\n",
       "    <tr>\n",
       "      <th>4</th>\n",
       "      <td>a001_bio04_5</td>\n",
       "      <td>0.452558</td>\n",
       "      <td>Willis John Abbot</td>\n",
       "      <td>Cleopatra</td>\n",
       "      <td>5.0</td>\n",
       "      <td>bio04</td>\n",
       "      <td>a001</td>\n",
       "      <td>9.0</td>\n",
       "    </tr>\n",
       "  </tbody>\n",
       "</table>\n",
       "</div>"
      ],
      "text/plain": [
       "       para_key     score             author personaName  para no_x  \\\n",
       "0  a001_bio04_1  0.290669  Willis John Abbot   Cleopatra        1.0   \n",
       "1  a001_bio04_2  0.000000  Willis John Abbot   Cleopatra        2.0   \n",
       "2  a001_bio04_3  0.376424  Willis John Abbot   Cleopatra        3.0   \n",
       "3  a001_bio04_4 -0.077556  Willis John Abbot   Cleopatra        4.0   \n",
       "4  a001_bio04_5  0.452558  Willis John Abbot   Cleopatra        5.0   \n",
       "\n",
       "  biographyID collectionID  para no_y  \n",
       "0       bio04         a001        9.0  \n",
       "1       bio04         a001        9.0  \n",
       "2       bio04         a001        9.0  \n",
       "3       bio04         a001        9.0  \n",
       "4       bio04         a001        9.0  "
      ]
     },
     "execution_count": 220,
     "metadata": {},
     "output_type": "execute_result"
    }
   ],
   "source": [
    "avg_sentiment.head()"
   ]
  },
  {
   "cell_type": "code",
   "execution_count": 221,
   "metadata": {},
   "outputs": [],
   "source": [
    "avg_sentiment['time']= avg_sentiment['para no_x']/avg_sentiment['para no_y']\n",
    "avg_sentiment['score']=avg_sentiment.score"
   ]
  },
  {
   "cell_type": "code",
   "execution_count": 222,
   "metadata": {},
   "outputs": [],
   "source": [
    "#subsetting based on persona for plots"
   ]
  },
  {
   "cell_type": "code",
   "execution_count": 223,
   "metadata": {},
   "outputs": [],
   "source": [
    "Queen = avg_sentiment.loc[avg_sentiment['personaName']=='Queen Victoria']"
   ]
  },
  {
   "cell_type": "code",
   "execution_count": 224,
   "metadata": {},
   "outputs": [],
   "source": [
    "#list(lola.para_key.unique())"
   ]
  },
  {
   "cell_type": "code",
   "execution_count": 225,
   "metadata": {},
   "outputs": [],
   "source": [
    "import plotly\n",
    "plotly.tools.set_credentials_file(username='sjawarani', api_key='ZlyoNIh0X7NAU0znNqgE')\n",
    "from plotly.plotly import iplot"
   ]
  },
  {
   "cell_type": "code",
   "execution_count": 226,
   "metadata": {},
   "outputs": [],
   "source": [
    "#lola.para_key.strhead()"
   ]
  },
  {
   "cell_type": "code",
   "execution_count": 227,
   "metadata": {},
   "outputs": [],
   "source": [
    "Queen = Queen.sort_values(['time'])"
   ]
  },
  {
   "cell_type": "code",
   "execution_count": 229,
   "metadata": {},
   "outputs": [],
   "source": [
    "Queen = Queen.drop_duplicates()"
   ]
  },
  {
   "cell_type": "code",
   "execution_count": 230,
   "metadata": {},
   "outputs": [
    {
     "data": {
      "text/plain": [
       "array(['a143_bio01_1', 'a143_bio01_2', 'a185_bio01_1', 'a143_bio01_3',\n",
       "       'a270_bio01_1', 'a186_bio01_1', 'a143_bio01_4', 'a185_bio01_2',\n",
       "       'a143_bio01_5', 'a143_bio01_6'], dtype=object)"
      ]
     },
     "execution_count": 230,
     "metadata": {},
     "output_type": "execute_result"
    }
   ],
   "source": [
    "Queen.para_key.unique()[0:10]"
   ]
  },
  {
   "cell_type": "code",
   "execution_count": null,
   "metadata": {},
   "outputs": [],
   "source": []
  },
  {
   "cell_type": "code",
   "execution_count": null,
   "metadata": {},
   "outputs": [],
   "source": []
  },
  {
   "cell_type": "code",
   "execution_count": null,
   "metadata": {},
   "outputs": [],
   "source": []
  },
  {
   "cell_type": "code",
   "execution_count": 202,
   "metadata": {},
   "outputs": [],
   "source": [
    "import plotly.plotly as py\n",
    "import plotly.graph_objs as go"
   ]
  },
  {
   "cell_type": "code",
   "execution_count": 231,
   "metadata": {},
   "outputs": [
    {
     "name": "stdout",
     "output_type": "stream",
     "text": [
      "High five! You successfully sent some data to your account on plotly. View your plot in your browser at https://plot.ly/~sjawarani/0 or inside your plot.ly account where it is named 'styled-scatter'\n"
     ]
    },
    {
     "data": {
      "text/html": [
       "<iframe id=\"igraph\" scrolling=\"no\" style=\"border:none;\" seamless=\"seamless\" src=\"https://plot.ly/~sjawarani/0.embed\" height=\"525px\" width=\"100%\"></iframe>"
      ],
      "text/plain": [
       "<plotly.tools.PlotlyDisplay object>"
      ]
     },
     "execution_count": 231,
     "metadata": {},
     "output_type": "execute_result"
    }
   ],
   "source": [
    "\n",
    "trace0 = go.Scatter(\n",
    "        x = Queen.time[Queen.para_key.str.contains(\"a664_bio12\")] ,\n",
    "        y = Queen.score[Queen.para_key.str.contains(\"a664_bio12\")] ,\n",
    "        mode='markers',\n",
    "        marker = dict(\n",
    "            size = 10,\n",
    "            color = 'rgba(152, 0, 0, .8)',\n",
    "            line = dict(\n",
    "                width = 2,\n",
    "                color = 'rgb(0, 0, 0)'\n",
    "            )\n",
    "        )\n",
    "    )\n",
    "\n",
    "    # trace1 = go.Scatter(\n",
    "    #     x = lola.time[lola.para_key.str.contains('a095A_bio05')],\n",
    "    #     y = lola.score[lola.para_key.str.contains('a095A_bio05')] ,\n",
    "    #     marker = dict(\n",
    "    #         size = 10,\n",
    "    #         color = 'rgba(255, 182, 193, .9)',\n",
    "    #         line = dict(\n",
    "    #             width = 2,\n",
    "    #         )\n",
    "    #     )\n",
    "    # )\n",
    "\n",
    "data = [trace0]\n",
    "\n",
    "layout = dict(title = 'Styled Scatter',\n",
    "                  yaxis = dict(zeroline = False),\n",
    "                  xaxis = dict(zeroline = False)\n",
    "                 )\n",
    "\n",
    "fig = dict(data=data, layout=layout)\n",
    "py.iplot(fig, filename='styled-scatter')\n"
   ]
  },
  {
   "cell_type": "code",
   "execution_count": 232,
   "metadata": {},
   "outputs": [],
   "source": [
    "Dora = avg_sentiment.loc[avg_sentiment['personaName']=='Sister Dora']\n",
    "Dora = Dora.sort_values(['time'])\n",
    "Dora = Dora.drop_duplicates()"
   ]
  },
  {
   "cell_type": "code",
   "execution_count": 234,
   "metadata": {},
   "outputs": [
    {
     "name": "stdout",
     "output_type": "stream",
     "text": [
      "High five! You successfully sent some data to your account on plotly. View your plot in your browser at https://plot.ly/~sjawarani/0 or inside your plot.ly account where it is named 'styled-scatter'\n"
     ]
    },
    {
     "data": {
      "text/html": [
       "<iframe id=\"igraph\" scrolling=\"no\" style=\"border:none;\" seamless=\"seamless\" src=\"https://plot.ly/~sjawarani/0.embed\" height=\"525px\" width=\"100%\"></iframe>"
      ],
      "text/plain": [
       "<plotly.tools.PlotlyDisplay object>"
      ]
     },
     "execution_count": 234,
     "metadata": {},
     "output_type": "execute_result"
    }
   ],
   "source": [
    "\n",
    "trace0 = go.Scatter(\n",
    "        x = Dora.time[Dora.para_key.str.contains(\"a730_bio05\")] ,\n",
    "        y = Dora.score[Dora.para_key.str.contains(\"a730_bio05\")] ,\n",
    "        mode='markers',\n",
    "        marker = dict(\n",
    "            size = 10,\n",
    "            color = 'rgba(152, 0, 0, .8)',\n",
    "            line = dict(\n",
    "                width = 2,\n",
    "                color = 'rgb(0, 0, 0)'\n",
    "            )\n",
    "        )\n",
    "    )\n",
    "\n",
    "    # trace1 = go.Scatter(\n",
    "    #     x = lola.time[lola.para_key.str.contains('a095A_bio05')],\n",
    "    #     y = lola.score[lola.para_key.str.contains('a095A_bio05')] ,\n",
    "    #     marker = dict(\n",
    "    #         size = 10,\n",
    "    #         color = 'rgba(255, 182, 193, .9)',\n",
    "    #         line = dict(\n",
    "    #             width = 2,\n",
    "    #         )\n",
    "    #     )\n",
    "    # )\n",
    "\n",
    "data = [trace0]\n",
    "\n",
    "layout = dict(title = 'Styled Scatter',\n",
    "                  yaxis = dict(zeroline = False),\n",
    "                  xaxis = dict(zeroline = False)\n",
    "                 )\n",
    "\n",
    "fig = dict(data=data, layout=layout)\n",
    "py.iplot(fig, filename='styled-scatter')"
   ]
  },
  {
   "cell_type": "code",
   "execution_count": 236,
   "metadata": {},
   "outputs": [
    {
     "name": "stdout",
     "output_type": "stream",
     "text": [
      "High five! You successfully sent some data to your account on plotly. View your plot in your browser at https://plot.ly/~sjawarani/0 or inside your plot.ly account where it is named 'styled-scatter'\n"
     ]
    },
    {
     "data": {
      "text/html": [
       "<iframe id=\"igraph\" scrolling=\"no\" style=\"border:none;\" seamless=\"seamless\" src=\"https://plot.ly/~sjawarani/0.embed\" height=\"525px\" width=\"100%\"></iframe>"
      ],
      "text/plain": [
       "<plotly.tools.PlotlyDisplay object>"
      ]
     },
     "execution_count": 236,
     "metadata": {},
     "output_type": "execute_result"
    }
   ],
   "source": [
    "\n",
    "trace0 = go.Scatter(\n",
    "        x = Dora.time[Dora.para_key.str.contains(\"a207_bio11\")] ,\n",
    "        y = Dora.score[Dora.para_key.str.contains(\"a207_bio11\")] ,\n",
    "        mode='markers',\n",
    "        marker = dict(\n",
    "            size = 10,\n",
    "            color = 'rgba(152, 0, 0, .8)',\n",
    "            line = dict(\n",
    "                width = 2,\n",
    "                color = 'rgb(0, 0, 0)'\n",
    "            )\n",
    "        )\n",
    "    )\n",
    "\n",
    "    # trace1 = go.Scatter(\n",
    "    #     x = lola.time[lola.para_key.str.contains('a095A_bio05')],\n",
    "    #     y = lola.score[lola.para_key.str.contains('a095A_bio05')] ,\n",
    "    #     marker = dict(\n",
    "    #         size = 10,\n",
    "    #         color = 'rgba(255, 182, 193, .9)',\n",
    "    #         line = dict(\n",
    "    #             width = 2,\n",
    "    #         )\n",
    "    #     )\n",
    "    # )\n",
    "\n",
    "data = [trace0]\n",
    "\n",
    "layout = dict(title = 'Styled Scatter',\n",
    "                  yaxis = dict(zeroline = False),\n",
    "                  xaxis = dict(zeroline = False)\n",
    "                 )\n",
    "\n",
    "fig = dict(data=data, layout=layout)\n",
    "py.iplot(fig, filename='styled-scatter')\n",
    "\n"
   ]
  },
  {
   "cell_type": "code",
   "execution_count": null,
   "metadata": {},
   "outputs": [],
   "source": []
  }
 ],
 "metadata": {
  "kernelspec": {
   "display_name": "Python 3",
   "language": "python",
   "name": "python3"
  },
  "language_info": {
   "codemirror_mode": {
    "name": "ipython",
    "version": 3
   },
   "file_extension": ".py",
   "mimetype": "text/x-python",
   "name": "python",
   "nbconvert_exporter": "python",
   "pygments_lexer": "ipython3",
   "version": "3.6.5"
  }
 },
 "nbformat": 4,
 "nbformat_minor": 2
}
