{
 "cells": [
  {
   "cell_type": "code",
   "execution_count": 37,
   "metadata": {},
   "outputs": [],
   "source": [
    "import os\n",
    "import numpy as np\n",
    "import pandas as pd\n",
    "import xml.etree.ElementTree as ET\n",
    "import csv"
   ]
  },
  {
   "cell_type": "code",
   "execution_count": 38,
   "metadata": {},
   "outputs": [],
   "source": [
    "path_overall = 'C:\\\\Users\\\\arvra\\\\Documents\\\\UVa files\\\\Classes\\\\Fall_18\\\\Capstone Project\\\\books\\\\books'"
   ]
  },
  {
   "cell_type": "markdown",
   "metadata": {},
   "source": [
    "### Function to extract Event related BESS tag from the XML file"
   ]
  },
  {
   "cell_type": "code",
   "execution_count": 55,
   "metadata": {},
   "outputs": [],
   "source": [
    "#### Function to extract feature from each of the description types\n",
    "\n",
    "def BESS_extract_function(each_member, event_description, Model_Data_frame):\n",
    "    ##### PERSONA DESCRIPTION ############\n",
    "    ## Checking if the tag matches the text in event_description\n",
    "            \n",
    "    ##Getting all the sub tags under events\n",
    "    sub_members = each_member.getchildren()\n",
    "\n",
    "    ## textUnitRangeReference\n",
    "    ## Creating a variable for para_number to store the paragraph number\n",
    "    para_number = None\n",
    "\n",
    "\n",
    "    ### Looping through each of the sub tags under Events\n",
    "    for each in sub_members:\n",
    "\n",
    "        if(each.text == None):\n",
    "            continue\n",
    "\n",
    "        ### Check if we have start and end tag for each of the sub tag ##\n",
    "\n",
    "        ### Absence of Start and End subtag under the tags\n",
    "        ### i.e. the tag corresponds to only one paragraph\n",
    "        if(len(each.getchildren()) == 0):\n",
    "            #print(each.tag)\n",
    "            #print(each.text)\n",
    "\n",
    "            if(each.tag == 'textUnitReference'):\n",
    "                para_number = each.text.strip()\n",
    "            else:\n",
    "\n",
    "                #print(para_number)\n",
    "                if(para_number == None):\n",
    "                    break\n",
    "                    \n",
    "                if(each.text == None):\n",
    "                    content_each_text = \"\"\n",
    "                else:\n",
    "                    content_each_text = each.text.strip()\n",
    "\n",
    "\n",
    "                Persona_Data_temp = pd.DataFrame({'para no' : [para_number],\n",
    "                                                  'Type' : [event_description],\\\n",
    "                                                  'Event': each.tag ,\\\n",
    "                                                  'Content': [content_each_text]})\n",
    "                \n",
    "                Model_Data_frame = pd.concat([Model_Data_frame,Persona_Data_temp], axis = 0)\n",
    "        \n",
    "        #print(Event_Data_temp)\n",
    "        ### Presence of Start and End subtag under the tags\n",
    "        ### i.e. the tag corresponds to more than one paragraph\n",
    "\n",
    "        if(len(each.getchildren()) != 0 and each.tag == 'textUnitRangeReference'):\n",
    "            start_para = int(each.getchildren()[0].text)\n",
    "            end_para = int(each.getchildren()[1].text)+1\n",
    "            \n",
    "            ##\n",
    "            for group_para in range(start_para,end_para):\n",
    "                counts_after_index = 0\n",
    "                for each_group_para in sub_members[1:len(sub_members)]:\n",
    "\n",
    "                    #print(group_para)\n",
    "                    \n",
    "                    if(each_group_para.text == None):\n",
    "                        content_text = \"\"\n",
    "                    else:\n",
    "                        content_text = each_group_para.text.strip()\n",
    "                    \n",
    "                    Persona_Data_temp = pd.DataFrame({'para no' : [group_para],\\\n",
    "                                                    'Type' : [event_description],\\\n",
    "                                                    'Event': each_group_para.tag,\\\n",
    "                                                    'Content': [content_text]})\n",
    "                    Model_Data_frame = pd.concat([Model_Data_frame,Persona_Data_temp], axis = 0)\n",
    "                    #print(Event_Data_temp)\n",
    "                    counts_after_index+= 1\n",
    "            #print(Persona_Data_frame)\n",
    "\n",
    "            for each in range(counts_after_index):\n",
    "                continue\n",
    "                \n",
    "    return(Model_Data_frame)"
   ]
  },
  {
   "cell_type": "markdown",
   "metadata": {},
   "source": [
    "### Primary function to parse through XML files\n",
    "#### BESS_extract_function function is used within this function to call each category like 'Events', 'PersonaDescription' separately"
   ]
  },
  {
   "cell_type": "code",
   "execution_count": 56,
   "metadata": {},
   "outputs": [],
   "source": [
    "def bess_to_df(bess_file_path):\n",
    "    \n",
    "    #### Checking if it is a valid file before using xml parser\n",
    "    valid_file = 0\n",
    "    for each in open(bess_file_path,'r'):\n",
    "        \n",
    "        if(\"BESS\" in each):\n",
    "            #print(each)\n",
    "            valid_file = 1\n",
    "            break\n",
    "    \n",
    "    ## If there is no valid text, we return without any processing\n",
    "    if(valid_file == 0):\n",
    "        return(None)\n",
    "    \n",
    "    bess_file_read = bess_file_path\n",
    "    tree = ET.parse(bess_file_read)\n",
    "    root = tree.getroot()\n",
    "    \n",
    "    ### Checking if we have any information at all\n",
    "    \n",
    "    if(root.find('textAnalyzed') == None):\n",
    "        return(None)\n",
    "    \n",
    "    ########################## STARTING THE ACTUAL PARSING #########################################\n",
    "    #################### Getting Meta data infromation by parsing XML ##############################\n",
    "    \n",
    "    textAnalyzed = root.find('textAnalyzed')\n",
    "    c_id = textAnalyzed.find('collectionID').text\n",
    "    b_id = textAnalyzed.find('biographyID').text\n",
    "    uri = textAnalyzed.find('URI').text\n",
    "    \n",
    "    ## Setting Author to Unknown if we do not have an author\n",
    "    if( textAnalyzed.find('author') == None):\n",
    "        author = \"Unknown\"\n",
    "    else:\n",
    "        author = textAnalyzed.find('author').text\n",
    "    \n",
    "    ## Setting the Title to Unknown if we do not have a title\n",
    "    if( textAnalyzed.find('title') == None):\n",
    "        title = \"Unknown\"\n",
    "    else:\n",
    "        title = textAnalyzed.find('title').text\n",
    "    \n",
    "    persona_name = textAnalyzed.find('personaName').text\n",
    "    \n",
    "    ## Creating Dataframe for Meta data and BESS tags\n",
    "    Model_data_frame = pd.DataFrame({'para no' : [],'Type':[], 'Event' : [],'Content': []})\n",
    "    topos_Data_frame = discourse_Data_frame = sol_Data_frame = Persona_Data_frame = Event_Data_frame = Model_data_frame\n",
    "    \n",
    "    Meta_data_df = pd.DataFrame({'collectionID': [c_id],'biographyID': [b_id],\n",
    "                                 'URI': [uri],'author': [author],'title': [title],\n",
    "                                 'personaName': [persona_name]})\n",
    "    \n",
    "    \n",
    "    #################### Getting BESS tag infromation by parsing XML ##########################\n",
    "    \n",
    "    for each_member in root.find('analysis'):\n",
    "        \n",
    "        ## Checking if the tag is Event (since we are parsing for event here)\n",
    "        if(each_member.tag == 'event'):\n",
    "            Event_Data_frame = BESS_extract_function(each_member,\"Event\",Event_Data_frame)\n",
    "        \n",
    "        if(each_member.tag == 'personaDescription'):\n",
    "            Persona_Data_frame = BESS_extract_function(each_member,\"personaDescription\",Persona_Data_frame)\n",
    "        \n",
    "        if(each_member.tag == 'stageOfLife'):\n",
    "            sol_Data_frame = BESS_extract_function(each_member,\"stageOfLife\",sol_Data_frame)\n",
    "        \n",
    "        if(each_member.tag == 'discourse'):\n",
    "            discourse_Data_frame = BESS_extract_function(each_member,\"discourse\",discourse_Data_frame)\n",
    "        \n",
    "        if(each_member.tag == 'topos'):\n",
    "            topos_Data_frame = BESS_extract_function(each_member,\"topos\",topos_Data_frame)\n",
    "        \n",
    "        if(each_member.tag not in \\\n",
    "           ['event','personaDescription','stageOfLife','discourse','topos','personaType']):\n",
    "            print(each_member.tag)\n",
    "            \n",
    "    ### Events concat\n",
    "    Events = pd.concat([Event_Data_frame,Meta_data_df], axis = 1)\n",
    "    Events.reset_index(drop = True,inplace = True)\n",
    "    \n",
    "    ### Persona concat\n",
    "    Persona = pd.concat([Persona_Data_frame,Meta_data_df], axis = 1)\n",
    "    Persona.reset_index(drop = True,inplace = True)\n",
    "    \n",
    "    ## Stage of Life\n",
    "    \n",
    "    Stageoflife = pd.concat([sol_Data_frame,Meta_data_df], axis = 1)\n",
    "    Stageoflife.reset_index(drop = True,inplace = True)\n",
    "    \n",
    "    ## Discourse\n",
    "    \n",
    "    Discourse = pd.concat([discourse_Data_frame,Meta_data_df], axis = 1)\n",
    "    Discourse.reset_index(drop = True,inplace = True)\n",
    "    \n",
    "    \n",
    "    ## topos\n",
    "    Topos = pd.concat([topos_Data_frame,Meta_data_df], axis = 1)\n",
    "    Topos.reset_index(drop = True,inplace = True)\n",
    "    \n",
    "    return(pd.concat([Stageoflife,Events,Persona,Discourse,Topos],axis = 0))"
   ]
  },
  {
   "cell_type": "markdown",
   "metadata": {},
   "source": [
    "### Looping through all the folders to get the data frames for each xml file"
   ]
  },
  {
   "cell_type": "code",
   "execution_count": 57,
   "metadata": {
    "scrolled": true
   },
   "outputs": [
    {
     "name": "stdout",
     "output_type": "stream",
     "text": [
      ".DS_Store\n",
      "a001\n",
      "a007\n",
      "a019A\n",
      "a020\n",
      "a034\n",
      "a052A\n",
      "a095A\n",
      "a143\n",
      "a160\n",
      "a162\n",
      "a185\n",
      "a186\n",
      "a207\n",
      "a221\n",
      "a221A\n",
      "a270\n",
      "a282\n",
      "a302A\n",
      "a319\n",
      "a411\n",
      "a468\n",
      "a527\n",
      "a557\n",
      "a607\n",
      "a624\n",
      "a626\n",
      "a628\n",
      "a630\n",
      "a664\n",
      "a681\n",
      "a712\n",
      "a730\n",
      "a739\n",
      "a788\n",
      "a789\n",
      "a793\n",
      "a813\n",
      "a863\n",
      "a887\n",
      "a894\n",
      "a920\n",
      "a925\n",
      "ACCOMPLISHMENT.txt\n",
      "p067A\n",
      "p091C\n",
      "p131A\n",
      "RCMCBWnewProject.xpr\n",
      "TasteSearchProject.xpr\n"
     ]
    }
   ],
   "source": [
    "#Initializing an empty data frame\n",
    "bess_df_all = pd.DataFrame()\n",
    "\n",
    "### Looping through each of the collective biography\n",
    "for a_files in os.listdir(path_overall):\n",
    "    print(a_files)\n",
    "    if(os.path.isdir(path_overall+\"\\\\\"+a_files)):\n",
    "        \n",
    "        ### Looping through each of the individual biography\n",
    "        for bio_files in os.listdir(path_overall+\"\\\\\"+a_files):\n",
    "            \n",
    "            #print(os.path.isdir(path_overall+\"\\\\\"+a_files))\n",
    "            if(os.path.isdir(path_overall+\"\\\\\"+a_files+\"\\\\\"+bio_files)):\n",
    "                \n",
    "                files = os.listdir(path_overall+\"\\\\\"+a_files+\"\\\\\"+bio_files)\n",
    "                \n",
    "                \n",
    "                bess_files = [each_file for each_file in files if \".bess.xml\" in each_file]\n",
    "                ### Looping through each of the valid file in an individual biography\n",
    "                for each_bess_file in bess_files:\n",
    "                    #print(each_bess_file)\n",
    "                    bess_file_path  = path_overall+\"\\\\\"+a_files+\"\\\\\"+bio_files+\"\\\\\"+each_bess_file\n",
    "                    #print(each_bess_file)\n",
    "                    bess_df_current = bess_to_df(bess_file_path)\n",
    "                    bess_df_all = pd.concat([bess_df_all,bess_df_current],axis = 0)\n",
    "                    \n",
    "                    bess_df_all.reset_index(drop = True, inplace= True)"
   ]
  },
  {
   "cell_type": "code",
   "execution_count": 58,
   "metadata": {},
   "outputs": [],
   "source": [
    "bess_df_all  = bess_df_all.drop_duplicates()"
   ]
  },
  {
   "cell_type": "code",
   "execution_count": 41,
   "metadata": {},
   "outputs": [],
   "source": [
    "##### Mutual Information/  Non-negative matrix multiplication"
   ]
  },
  {
   "cell_type": "code",
   "execution_count": 61,
   "metadata": {},
   "outputs": [],
   "source": [
    "bess_df_all.shape\n",
    "bess_df_all.to_csv(\"CBW_Bess_tags.csv\", index = False)"
   ]
  },
  {
   "cell_type": "markdown",
   "metadata": {},
   "source": [
    "#### Examining Unique Classes under each category"
   ]
  },
  {
   "cell_type": "markdown",
   "metadata": {},
   "source": [
    "#### Events"
   ]
  },
  {
   "cell_type": "code",
   "execution_count": 9,
   "metadata": {},
   "outputs": [
    {
     "data": {
      "text/plain": [
       "(2400,)"
      ]
     },
     "execution_count": 9,
     "metadata": {},
     "output_type": "execute_result"
    }
   ],
   "source": [
    "### We have a total of 1852 categories under Events\n",
    "bess_df_all.Content[bess_df_all.Type == \"Event\"].value_counts().shape"
   ]
  },
  {
   "cell_type": "code",
   "execution_count": 15,
   "metadata": {},
   "outputs": [],
   "source": [
    "## Looking at the Frequency\n",
    "values = bess_df_all.Content[bess_df_all.Type == \"Event\"].value_counts()"
   ]
  },
  {
   "cell_type": "code",
   "execution_count": 24,
   "metadata": {},
   "outputs": [
    {
     "data": {
      "text/plain": [
       "6.833377908531693"
      ]
     },
     "execution_count": 24,
     "metadata": {},
     "output_type": "execute_result"
    }
   ],
   "source": [
    "counts = bess_df_all.Content[bess_df_all.Type == \"Event\"].value_counts()\n",
    "100 * counts[counts <= 20].sum()/counts.sum()"
   ]
  },
  {
   "cell_type": "markdown",
   "metadata": {},
   "source": [
    "#### Categories appearing just once"
   ]
  },
  {
   "cell_type": "code",
   "execution_count": 25,
   "metadata": {},
   "outputs": [
    {
     "data": {
      "text/plain": [
       "(166436, 10)"
      ]
     },
     "execution_count": 25,
     "metadata": {},
     "output_type": "execute_result"
    }
   ],
   "source": [
    "bess_df_all.drop_duplicates().shape"
   ]
  },
  {
   "cell_type": "code",
   "execution_count": 10,
   "metadata": {},
   "outputs": [
    {
     "data": {
      "text/plain": [
       "6.833377908531693"
      ]
     },
     "execution_count": 10,
     "metadata": {},
     "output_type": "execute_result"
    }
   ],
   "source": [
    "counts = bess_df_all.Content[bess_df_all.Type == \"Event\"].value_counts()\n",
    "100 * counts[counts <= 20].sum()/counts.sum()"
   ]
  },
  {
   "cell_type": "markdown",
   "metadata": {},
   "source": [
    "#### Persona Description"
   ]
  },
  {
   "cell_type": "code",
   "execution_count": 11,
   "metadata": {},
   "outputs": [
    {
     "data": {
      "text/plain": [
       "(236,)"
      ]
     },
     "execution_count": 11,
     "metadata": {},
     "output_type": "execute_result"
    }
   ],
   "source": [
    "### We have a total of 1852 categories under Events\n",
    "bess_df_all.Content[bess_df_all.Type == \"personaDescription\"].value_counts().shape"
   ]
  },
  {
   "cell_type": "code",
   "execution_count": 26,
   "metadata": {},
   "outputs": [],
   "source": [
    "## TO DO\n",
    "## ASSOCIATION RULE STUDY FOR THESE"
   ]
  },
  {
   "cell_type": "code",
   "execution_count": 12,
   "metadata": {},
   "outputs": [
    {
     "data": {
      "text/plain": [
       "beautiful                            542\n",
       "dedicated or devoted                 389\n",
       "energetic or untiring                336\n",
       "brave                                330\n",
       "happy                                281\n",
       "intelligent                          273\n",
       "loving                               239\n",
       "sympathetic                          227\n",
       "skilled, in occupation               217\n",
       "self-sacrificing                     211\n",
       "charming                             201\n",
       "beloved                              193\n",
       "kind                                 184\n",
       "faith, confident in                  180\n",
       "cheerful                             179\n",
       "young                                179\n",
       "devout                               177\n",
       "noble in character                   176\n",
       "willful or stubborn                  172\n",
       "superior to other women              157\n",
       "famous                               153\n",
       "fearful                              147\n",
       "physically weak or frail             146\n",
       "charitable                           143\n",
       "persistent                           141\n",
       "generous                             140\n",
       "physically strong                    137\n",
       "proud                                131\n",
       "good                                 129\n",
       "commanding, able to lead             128\n",
       "                                    ... \n",
       " patient or enduring                   2\n",
       "anachronistic                          2\n",
       " sad                                   2\n",
       " socially daring                       1\n",
       " religious in practice, observant      1\n",
       "depressed                              1\n",
       " ripe or sexually attractive           1\n",
       " humorous behavior on purpose          1\n",
       " poor                                  1\n",
       " skilled, athletic                     1\n",
       "Irish                                  1\n",
       " happy                                 1\n",
       " depressed                             1\n",
       " violent                               1\n",
       " sexually disreputable                 1\n",
       " reckless                              1\n",
       "maternal                               1\n",
       " generous                              1\n",
       " calculating                           1\n",
       "tired or exhausted                     1\n",
       " dignified                             1\n",
       " loyal                                 1\n",
       " tired or exhausted                    1\n",
       " brave                                 1\n",
       " pleasure seeking                      1\n",
       " good                                  1\n",
       " ambitious                             1\n",
       " hopeful                               1\n",
       "genius or talented                     1\n",
       " honest                                1\n",
       "Name: Content, Length: 236, dtype: int64"
      ]
     },
     "execution_count": 12,
     "metadata": {},
     "output_type": "execute_result"
    }
   ],
   "source": [
    "## Looking at the Frequency\n",
    "bess_df_all.Content[bess_df_all.Type == \"personaDescription\"].value_counts()"
   ]
  },
  {
   "cell_type": "code",
   "execution_count": 13,
   "metadata": {},
   "outputs": [
    {
     "data": {
      "text/plain": [
       "type                 114476\n",
       "agentType             21339\n",
       "name                  15807\n",
       "locationSetting        5248\n",
       "locationStructure      4430\n",
       "dateSingle             3336\n",
       "timeOfDay               737\n",
       "season                  507\n",
       "note                    444\n",
       "dateRange               102\n",
       "datesSingle               1\n",
       "Name: Event, dtype: int64"
      ]
     },
     "execution_count": 13,
     "metadata": {},
     "output_type": "execute_result"
    }
   ],
   "source": [
    "## Different Segregation under Events\n",
    "bess_df_all.Event.value_counts()"
   ]
  },
  {
   "cell_type": "code",
   "execution_count": 14,
   "metadata": {},
   "outputs": [
    {
     "data": {
      "text/plain": [
       "6.25147999052806"
      ]
     },
     "execution_count": 14,
     "metadata": {},
     "output_type": "execute_result"
    }
   ],
   "source": [
    "counts = bess_df_all.Content[bess_df_all.Type == \"personaDescription\"].value_counts()\n",
    "100 * counts[counts <= 20].sum()/counts.sum()"
   ]
  },
  {
   "cell_type": "markdown",
   "metadata": {},
   "source": [
    "#### Stage of Life"
   ]
  },
  {
   "cell_type": "code",
   "execution_count": 15,
   "metadata": {},
   "outputs": [
    {
     "data": {
      "text/plain": [
       "(14,)"
      ]
     },
     "execution_count": 15,
     "metadata": {},
     "output_type": "execute_result"
    }
   ],
   "source": [
    "### We have a total of 1852 categories under Events\n",
    "bess_df_all.Content[bess_df_all.Type == \"stageOfLife\"].value_counts().shape"
   ]
  },
  {
   "cell_type": "code",
   "execution_count": 16,
   "metadata": {},
   "outputs": [
    {
     "data": {
      "text/plain": [
       "middle                8541\n",
       "culmination           2730\n",
       "beginning             2404\n",
       "end                   1033\n",
       "after                  772\n",
       "before                 228\n",
       "\\n                      53\n",
       " middle                 53\n",
       " beginning              15\n",
       " culmination            12\n",
       " after                  12\n",
       " end                     6\n",
       "\\n\\t\\t\\t\\t               4\n",
       " before                  1\n",
       "Name: Content, dtype: int64"
      ]
     },
     "execution_count": 16,
     "metadata": {},
     "output_type": "execute_result"
    }
   ],
   "source": [
    "## Looking at the Frequency\n",
    "bess_df_all.Content[bess_df_all.Type == \"stageOfLife\"].value_counts()"
   ]
  },
  {
   "cell_type": "markdown",
   "metadata": {},
   "source": [
    "#### Discourse"
   ]
  },
  {
   "cell_type": "code",
   "execution_count": 17,
   "metadata": {},
   "outputs": [
    {
     "data": {
      "text/plain": [
       "(248,)"
      ]
     },
     "execution_count": 17,
     "metadata": {},
     "output_type": "execute_result"
    }
   ],
   "source": [
    "### We have a total of 1852 categories under Events\n",
    "bess_df_all.Content[bess_df_all.Type == \"discourse\"].value_counts().shape"
   ]
  },
  {
   "cell_type": "code",
   "execution_count": 18,
   "metadata": {},
   "outputs": [
    {
     "data": {
      "text/plain": [
       "evaluation                                                     2339\n",
       "emphasis in typeface, punctuation                              2158\n",
       "quotation, agent's speech, unique                              1671\n",
       "present tense                                                  1670\n",
       "description of agent or identified set of agents               1583\n",
       "direct address, use of we                                      1535\n",
       "focalization, attributing feelings                             1159\n",
       "quotation, persona speech, unique                              1116\n",
       "speech, reported not quoted                                    1087\n",
       "digression or pause in life time                                993\n",
       "quotation, unidentified                                         965\n",
       "precepts                                                        864\n",
       "quotation, persona writings about self                          829\n",
       "dialogue                                                        811\n",
       "description of environment                                      788\n",
       "scene, life and discourse appear same pace                      781\n",
       "speculation, possible motives or causes                         753\n",
       "focalization, attributing thoughts                              687\n",
       "periods or times compared                                       673\n",
       "prospective or foreshadowing                                    670\n",
       "historiography, narration of historical events                  668\n",
       "iterative, repeating or persistent                              654\n",
       "focalization, attributing motives                               644\n",
       "quotation, agent's writing about persona                        631\n",
       "summary, more, much or all life in less prose                   628\n",
       "quotation, documentary source, persona's lifetime               571\n",
       "quotation, persona letters                                      512\n",
       "rhetorical question                                             495\n",
       "quotation, previous biography of persona                        468\n",
       "description of a kind of people or society (not individual)     454\n",
       "                                                               ... \n",
       " versions of persona's life compared                              1\n",
       "quotation, agent speech, unique                                   1\n",
       " analogy to men, named                                            1\n",
       " summary, more, much or all life in less prose                    1\n",
       "example, explicity illustration of claim                          1\n",
       " quotation, sage or philosopher                                   1\n",
       " quotation, poetry                                                1\n",
       "childhood anecdote, talent predicted\\n\\t\\t\\t                      1\n",
       "attachment or caring between the people and agent                 1\n",
       "family, genetic heritage of persona                               1\n",
       " analepsis, shift of scene to previous time                       1\n",
       " analogy to other woman, named                                    1\n",
       "decription of agent or specific set of agents                     1\n",
       " example, explicit illustration of claim                          1\n",
       "renaming                                                          1\n",
       "allusion, literary, reference                                     1\n",
       "quotation, persona speech, unique                                 1\n",
       "quotation, persona's speech, unique                               1\n",
       " allusion to historical woman                                     1\n",
       "attachment or caring between the people and persona               1\n",
       "figureOrImage, island                                             1\n",
       " narrator's negativity                                            1\n",
       "figureOrImage, invertibrate                                       1\n",
       " speculation, alternative outcomes, \"if\"                          1\n",
       " digression or pause in life time                                 1\n",
       "narrator's sympathy                                               1\n",
       " figureOrImage, other                                             1\n",
       " quotation, persona writings about self                           1\n",
       " figureOrImage, warrior                                           1\n",
       " quotation, persona writings advice                               1\n",
       "Name: Content, Length: 248, dtype: int64"
      ]
     },
     "execution_count": 18,
     "metadata": {},
     "output_type": "execute_result"
    }
   ],
   "source": [
    "## Looking at the Frequency\n",
    "bess_df_all.Content[bess_df_all.Type == \"discourse\"].value_counts()"
   ]
  },
  {
   "cell_type": "markdown",
   "metadata": {},
   "source": [
    "#### Topos"
   ]
  },
  {
   "cell_type": "code",
   "execution_count": 19,
   "metadata": {},
   "outputs": [
    {
     "data": {
      "text/plain": [
       "(227,)"
      ]
     },
     "execution_count": 19,
     "metadata": {},
     "output_type": "execute_result"
    }
   ],
   "source": [
    "### We have a total of 1852 categories under Events\n",
    "bess_df_all.Content[bess_df_all.Type == \"topos\"].value_counts().shape"
   ]
  },
  {
   "cell_type": "code",
   "execution_count": 20,
   "metadata": {},
   "outputs": [
    {
     "data": {
      "text/plain": [
       "attachment or caring between the people and persona     546\n",
       "fame in lifetime                                        495\n",
       "dying or deathbed                                       493\n",
       "association with great man or men                       460\n",
       "hostility                                               438\n",
       "recognition or tribute                                  427\n",
       "triumph as fulfilled goal or ambition                   415\n",
       "romance                                                 401\n",
       "charity                                                 375\n",
       "clothing, persona's                                     317\n",
       "turning point                                           307\n",
       "faith                                                   306\n",
       "adversity                                               305\n",
       "sacrifice or renunciation of self-interest or desire    303\n",
       "memory                                                  296\n",
       "failure as outcome, tragedy                             278\n",
       "beauty as effect on others                              261\n",
       "gender as narrator's generalization                     254\n",
       "gender as persona's encounter with others               243\n",
       "poverty                                                 237\n",
       "work as social service                                  229\n",
       "triumph as overcoming adversity or opposition           227\n",
       "physical contact with man                               225\n",
       "service to Jesus                                        222\n",
       "despair                                                 220\n",
       "test or trial, physical                                 212\n",
       "family, occupation of parents or ancestors              211\n",
       "calling or vocation                                     206\n",
       "renaming                                                205\n",
       "duty                                                    201\n",
       "                                                       ... \n",
       "sacrifice or renunciaiton of self-interest or desire      1\n",
       " faith                                                    1\n",
       "physical contact with man\\n\\t\\t\\t\\t                       1\n",
       " service to Jesus                                         1\n",
       "innocence                                                 1\n",
       " family, occupation of parents or ancestors               1\n",
       " fame, posthumous                                         1\n",
       " attachment or caring between the people and persona      1\n",
       "solitude, lack of support, understanding                  1\n",
       "triumph as overcoming adversity                           1\n",
       " test or trial other than physical or spiritual           1\n",
       " romance                                                  1\n",
       " disillusionment                                          1\n",
       " work, unladylike, necessary                              1\n",
       " patriotism                                               1\n",
       "periods or times compared                                 1\n",
       " revenge                                                  1\n",
       "trial other than physical or spiritual                    1\n",
       "physically daring                                         1\n",
       " influence, emotional effect on peers                     1\n",
       "quotation, agent's speech, unique                         1\n",
       " failure as outcome, tragedy                              1\n",
       " poverty                                                  1\n",
       " youthful desire for vocation or work                     1\n",
       " lesson, learning by experience                           1\n",
       "attachment or caring between nations or peoples           1\n",
       "Oneday initiated                                          1\n",
       " solitude, escape from others                             1\n",
       " doubt of occupation or vocation                          1\n",
       "focalization, attributing thoughts                        1\n",
       "Name: Content, Length: 227, dtype: int64"
      ]
     },
     "execution_count": 20,
     "metadata": {},
     "output_type": "execute_result"
    }
   ],
   "source": [
    "## Looking at the Frequency\n",
    "bess_df_all.Content[bess_df_all.Type == \"topos\"].value_counts()"
   ]
  },
  {
   "cell_type": "markdown",
   "metadata": {},
   "source": [
    "#### Author Analysis"
   ]
  },
  {
   "cell_type": "code",
   "execution_count": 21,
   "metadata": {},
   "outputs": [
    {
     "data": {
      "text/plain": [
       "Unknown                                           27713\n",
       "Albert Payson Terhune                             16407\n",
       "Rosa Nouchette Carey                               9371\n",
       "Ethel Colburn Mayne                                8977\n",
       "A. J. Green Armytage                               8449\n",
       "John Maw Darton                                    6365\n",
       "Robert Cochrane                                    5924\n",
       "Cameron Rogers                                     5747\n",
       "Jeanie Douglas Cochrane                            5485\n",
       "Frances A. Gerard                                  5320\n",
       "Henry Ewart                                        4891\n",
       "Millicent Garrett Fawcett and Steuart Beatrice     4515\n",
       "George Barnett Smith                               4471\n",
       "Duncan Aikman                                      3931\n",
       "Louise Creighton                                   3480\n",
       "Philip Walsingham Sergeant                         3102\n",
       "Duncan Aikmen                                      2500\n",
       "James Parton                                       2304\n",
       "Cora Miranda Baggerly Older                        1996\n",
       "Hamilton Wright Mabie                              1954\n",
       "Edmund B. D'Auvergne                               1907\n",
       "Myrtle Reed                                        1907\n",
       "Sabine Baring-Gould                                1517\n",
       "Warren Dunham Foster                               1475\n",
       "Daniel Wise                                        1459\n",
       "Cochrane, Jeanie                                   1453\n",
       "Edmund Basil Francis D'Auvergne                    1390\n",
       "Mabie, Hamilton and Kate Stephenson                1368\n",
       "Hamilton Wright Mable and Kate Stephens            1354\n",
       "R.V. Trevel                                        1141\n",
       "John Maw Dawton                                    1066\n",
       "William Rutherford Hayes Trowbridge                1058\n",
       "Clara H. Whitmore                                   977\n",
       "Johnson, Joseph                                     965\n",
       "Anne Elizabeth Jenkins                              905\n",
       "Daniel Wise, D.D.                                   840\n",
       "Mumford, Gertrude Leslie                            835\n",
       "Ethel Colburne Mayne                                829\n",
       "Cameron Rodgers                                     765\n",
       "                                                    741\n",
       "Jennie Chappell                                     732\n",
       "William Henry Davenport Adams                       703\n",
       "Philip Walshingham Sergeant                         698\n",
       "Fill in Later                                       696\n",
       "William Bolitho                                     667\n",
       "Willis John Abbot                                   571\n",
       "Edmund Basil Francid D'Auvergne                     552\n",
       "Rose Somerville                                     517\n",
       "Philip Walsingham Sergeant                          514\n",
       "Millicent Garrett Fawcett                           492\n",
       "Creighton, Louise                                   456\n",
       "Henry Thomas                                        438\n",
       "Hamilton Wright Mabie, Kate Stephens, eds.          424\n",
       "Woodman Bradbury                                    397\n",
       "Laura Carter Holloway                               372\n",
       "William Horton Foster                               285\n",
       "Joseph Johnson                                      275\n",
       "Hector Lee                                          161\n",
       "Cochrane, Robert                                     77\n",
       "Name: author, dtype: int64"
      ]
     },
     "execution_count": 21,
     "metadata": {},
     "output_type": "execute_result"
    }
   ],
   "source": [
    "bess_df_all.author.value_counts()"
   ]
  },
  {
   "cell_type": "markdown",
   "metadata": {},
   "source": [
    "#### Saving the data"
   ]
  },
  {
   "cell_type": "code",
   "execution_count": 29,
   "metadata": {},
   "outputs": [
    {
     "data": {
      "text/plain": [
       "(321, 4)"
      ]
     },
     "execution_count": 29,
     "metadata": {},
     "output_type": "execute_result"
    }
   ],
   "source": [
    "Author_list = bess_df_all.loc[:,[\"author\",\"biographyID\", \"collectionID\",\"personaName\"]].drop_duplicates()\n",
    "Author_list.shape"
   ]
  },
  {
   "cell_type": "code",
   "execution_count": 30,
   "metadata": {},
   "outputs": [
    {
     "data": {
      "text/plain": [
       "Unknown                                           39\n",
       "Robert Cochrane                                   25\n",
       "Ethel Colburn Mayne                               21\n",
       "Albert Payson Terhune                             21\n",
       "Millicent Garrett Fawcett and Steuart Beatrice    20\n",
       "A. J. Green Armytage                              13\n",
       "John Maw Darton                                   11\n",
       "Louise Creighton                                  10\n",
       "Henry Ewart                                       10\n",
       "Rosa Nouchette Carey                              10\n",
       "Jeanie Douglas Cochrane                           10\n",
       "Myrtle Reed                                       10\n",
       "Frances A. Gerard                                 10\n",
       "Cameron Rogers                                     8\n",
       "Duncan Aikman                                      7\n",
       "George Barnett Smith                               6\n",
       "Duncan Aikmen                                      5\n",
       "Philip Walsingham Sergeant                         5\n",
       "Clara H. Whitmore                                  5\n",
       "John Maw Dawton                                    5\n",
       "Ethel Colburne Mayne                               4\n",
       "Daniel Wise                                        4\n",
       "Hamilton Wright Mabie                              4\n",
       "James Parton                                       4\n",
       "Hamilton Wright Mable and Kate Stephens            3\n",
       "Warren Dunham Foster                               3\n",
       "Rose Somerville                                    3\n",
       "Willis John Abbot                                  3\n",
       "Anne Elizabeth Jenkins                             2\n",
       "Cora Miranda Baggerly Older                        2\n",
       "Daniel Wise, D.D.                                  2\n",
       "Edmund Basil Francis D'Auvergne                    2\n",
       "Johnson, Joseph                                    2\n",
       "Fill in Later                                      2\n",
       "R.V. Trevel                                        2\n",
       "William Henry Davenport Adams                      2\n",
       "Millicent Garrett Fawcett                          2\n",
       "William Rutherford Hayes Trowbridge                1\n",
       "Edmund Basil Francid D'Auvergne                    1\n",
       "Philip Walsingham Sergeant                         1\n",
       "Mumford, Gertrude Leslie                           1\n",
       "Hector Lee                                         1\n",
       "Edmund B. D'Auvergne                               1\n",
       "Creighton, Louise                                  1\n",
       "Jennie Chappell                                    1\n",
       "William Horton Foster                              1\n",
       "Hamilton Wright Mabie, Kate Stephens, eds.         1\n",
       "Cochrane, Robert                                   1\n",
       "Philip Walshingham Sergeant                        1\n",
       "Sabine Baring-Gould                                1\n",
       "Mabie, Hamilton and Kate Stephenson                1\n",
       "Henry Thomas                                       1\n",
       "                                                   1\n",
       "Cameron Rodgers                                    1\n",
       "Laura Carter Holloway                              1\n",
       "Woodman Bradbury                                   1\n",
       "Cochrane, Jeanie                                   1\n",
       "William Bolitho                                    1\n",
       "Joseph Johnson                                     1\n",
       "Name: author, dtype: int64"
      ]
     },
     "execution_count": 30,
     "metadata": {},
     "output_type": "execute_result"
    }
   ],
   "source": [
    "Author_list.author.value_counts()"
   ]
  },
  {
   "cell_type": "code",
   "execution_count": 36,
   "metadata": {},
   "outputs": [
    {
     "data": {
      "text/html": [
       "<div>\n",
       "<style scoped>\n",
       "    .dataframe tbody tr th:only-of-type {\n",
       "        vertical-align: middle;\n",
       "    }\n",
       "\n",
       "    .dataframe tbody tr th {\n",
       "        vertical-align: top;\n",
       "    }\n",
       "\n",
       "    .dataframe thead th {\n",
       "        text-align: right;\n",
       "    }\n",
       "</style>\n",
       "<table border=\"1\" class=\"dataframe\">\n",
       "  <thead>\n",
       "    <tr style=\"text-align: right;\">\n",
       "      <th></th>\n",
       "      <th>author</th>\n",
       "      <th>biographyID</th>\n",
       "      <th>collectionID</th>\n",
       "      <th>personaName</th>\n",
       "    </tr>\n",
       "  </thead>\n",
       "  <tbody>\n",
       "    <tr>\n",
       "      <th>95866</th>\n",
       "      <td>None</td>\n",
       "      <td>bio05</td>\n",
       "      <td>a319</td>\n",
       "      <td>None</td>\n",
       "    </tr>\n",
       "    <tr>\n",
       "      <th>102101</th>\n",
       "      <td>Hamilton Wright Mabie, Kate Stephens, eds.</td>\n",
       "      <td>bio04</td>\n",
       "      <td>a527</td>\n",
       "      <td>None</td>\n",
       "    </tr>\n",
       "  </tbody>\n",
       "</table>\n",
       "</div>"
      ],
      "text/plain": [
       "                                            author biographyID collectionID  \\\n",
       "95866                                         None       bio05         a319   \n",
       "102101  Hamilton Wright Mabie, Kate Stephens, eds.       bio04         a527   \n",
       "\n",
       "       personaName  \n",
       "95866         None  \n",
       "102101        None  "
      ]
     },
     "execution_count": 36,
     "metadata": {},
     "output_type": "execute_result"
    }
   ],
   "source": [
    "Author_list[Author_list.personaName.isnull()]"
   ]
  },
  {
   "cell_type": "code",
   "execution_count": null,
   "metadata": {},
   "outputs": [],
   "source": [
    "# Scrape the data from the website\n",
    "# Make a note of the biographios with no Persons\n",
    "# Data Vis. for associations (heat map)\n",
    "# (word features) - TF-IDF \n",
    "\n",
    "\n",
    "## 1. who is being remmebered? (Excluding writers from a different race - African america) - selection bias shuoldn't arrise- \n",
    "We are making decision about what is being remember about the best - cultural memory -\n",
    "Understanding power structures\n",
    "### 2. Does this project help or hinder portraying the memory of some particular woman\n",
    "\n",
    "### 3. DS and shcholarship - humanities vs. engineering - eng. would be happy to have ai to do somehting - what we do vs. the scholar\n",
    "# do we replace them or ccomplement them - \n",
    "# Asnwering about the relationship about analytics and scholarship\n",
    "\n",
    "\n",
    "### Alison - middle range reading - (distant reading) - digital methods to read the whole corpus - solution: take the best of both\n",
    "#the world - ## closed reading vs. distant reading - #Talk about human in the loop (DS can't do everything)\n",
    "\n"
   ]
  }
 ],
 "metadata": {
  "kernelspec": {
   "display_name": "Python 3",
   "language": "python",
   "name": "python3"
  },
  "language_info": {
   "codemirror_mode": {
    "name": "ipython",
    "version": 3
   },
   "file_extension": ".py",
   "mimetype": "text/x-python",
   "name": "python",
   "nbconvert_exporter": "python",
   "pygments_lexer": "ipython3",
   "version": "3.6.4"
  }
 },
 "nbformat": 4,
 "nbformat_minor": 2
}
