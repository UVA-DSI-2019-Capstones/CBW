{
 "cells": [
  {
   "cell_type": "code",
   "execution_count": 220,
   "metadata": {},
   "outputs": [],
   "source": [
    "#Importing the required packages\n",
    "import os\n",
    "import re\n",
    "import xml.etree.ElementTree as ET\n",
    "import csv\n",
    "import pandas as pd\n",
    "import requests\n",
    "from bs4 import BeautifulSoup\n",
    "from collections import OrderedDict\n"
   ]
  },
  {
   "cell_type": "code",
   "execution_count": 187,
   "metadata": {},
   "outputs": [],
   "source": [
    "#Changing the working directory\n",
    "os.chdir('E:/Capstone IATH/Code')\n",
    "\n",
    "#Setting the path\n",
    "path = 'E:/Capstone IATH/Data/books'\n",
    "\n",
    "#Getting all the files and removing the ones that are not the necessary\n",
    "files = []\n",
    "for r, d, f in os.walk(path):\n",
    "    for file in f:\n",
    "        if \".bess\" in file:\n",
    "            files.append(os.path.join(r, file))\n",
    "            \n",
    "files = [f.replace('\\\\', '/') for f in files]\n",
    "files = files[1:343]\n",
    "index = files.index(str(path) + '/a221/a221.bio05.bess.xml')\n",
    "del files[index]"
   ]
  },
  {
   "cell_type": "code",
   "execution_count": 188,
   "metadata": {},
   "outputs": [],
   "source": [
    "#Setting up the urls\n",
    "link = [str(f.split('/')[-3])+ '/' + str(f.split('/')[-2]) for f in files]\n",
    "urls = ['http://cbw.iath.virginia.edu/exist/cbw/dual/' + str(l) for l in link]"
   ]
  },
  {
   "cell_type": "code",
   "execution_count": 189,
   "metadata": {},
   "outputs": [],
   "source": [
    "#Creating an empty dataframe to store the data\n",
    "data = pd.DataFrame()"
   ]
  },
  {
   "cell_type": "code",
   "execution_count": 190,
   "metadata": {},
   "outputs": [],
   "source": [
    "for url in urls:\n",
    "    html = requests.get(url)\n",
    "    soup = BeautifulSoup(html.text,'lxml')\n",
    "    pno = soup.find_all(class_ = 'PNum')\n",
    "    pt = soup.find_all(class_ = 'text')\n",
    "    parano = [p.text for p in pno]\n",
    "    text = [t.text for t in pt]\n",
    "    col = [('ParagraphNo', parano), ('ParagraphText', text)]\n",
    "    df = pd.DataFrame.from_dict(OrderedDict(col))\n",
    "    df['CollectionID'] = url.split('/')[6]\n",
    "    df['BiographyID'] = url.split('/')[7]\n",
    "    data = data.append(df)"
   ]
  },
  {
   "cell_type": "code",
   "execution_count": 232,
   "metadata": {},
   "outputs": [],
   "source": [
    "#Cleaning the text column to remove duplicate spaces, newline characters tab characters, leading and trailing spaces\n",
    "text = data['ParagraphText']\n",
    "text = [t.replace(\"\\n\",\"\").strip() for t in text]\n",
    "text = [t.replace(\"\\t\",\"\") for t in text]\n",
    "text = [re.sub(' +', ' ', t) for t in text]\n",
    "data['ParagraphText'] = text"
   ]
  },
  {
   "cell_type": "code",
   "execution_count": 233,
   "metadata": {},
   "outputs": [],
   "source": [
    "#Writing to a csv file\n",
    "data.reset_index(drop=True, inplace=True)\n",
    "data.to_csv(\"textdata.csv\", index = False)"
   ]
  }
 ],
 "metadata": {
  "kernelspec": {
   "display_name": "Python 3",
   "language": "python",
   "name": "python3"
  },
  "language_info": {
   "codemirror_mode": {
    "name": "ipython",
    "version": 3
   },
   "file_extension": ".py",
   "mimetype": "text/x-python",
   "name": "python",
   "nbconvert_exporter": "python",
   "pygments_lexer": "ipython3",
   "version": "3.6.5"
  }
 },
 "nbformat": 4,
 "nbformat_minor": 2
}
