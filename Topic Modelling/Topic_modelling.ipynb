{
 "cells": [
  {
   "cell_type": "code",
   "execution_count": 2,
   "metadata": {},
   "outputs": [
    {
     "name": "stdout",
     "output_type": "stream",
     "text": [
      "[nltk_data] Downloading package wordnet to /Users/user/nltk_data...\n",
      "[nltk_data]   Package wordnet is already up-to-date!\n"
     ]
    },
    {
     "data": {
      "text/plain": [
       "True"
      ]
     },
     "execution_count": 2,
     "metadata": {},
     "output_type": "execute_result"
    }
   ],
   "source": [
    "import pandas as pd\n",
    "import numpy as np\n",
    "import gensim\n",
    "from gensim.utils import simple_preprocess\n",
    "from gensim.parsing.preprocessing import STOPWORDS\n",
    "from nltk.stem import WordNetLemmatizer, SnowballStemmer\n",
    "from nltk.stem.porter import *\n",
    "import numpy as np\n",
    "np.random.seed(2018)\n",
    "import nltk\n",
    "nltk.download('wordnet')"
   ]
  },
  {
   "cell_type": "code",
   "execution_count": 3,
   "metadata": {},
   "outputs": [],
   "source": [
    "text_data_sentence = pd.read_csv('textdatanew.csv', encoding='ISO-8859-1')"
   ]
  },
  {
   "cell_type": "code",
   "execution_count": 4,
   "metadata": {},
   "outputs": [
    {
     "data": {
      "text/html": [
       "<div>\n",
       "<style scoped>\n",
       "    .dataframe tbody tr th:only-of-type {\n",
       "        vertical-align: middle;\n",
       "    }\n",
       "\n",
       "    .dataframe tbody tr th {\n",
       "        vertical-align: top;\n",
       "    }\n",
       "\n",
       "    .dataframe thead th {\n",
       "        text-align: right;\n",
       "    }\n",
       "</style>\n",
       "<table border=\"1\" class=\"dataframe\">\n",
       "  <thead>\n",
       "    <tr style=\"text-align: right;\">\n",
       "      <th></th>\n",
       "      <th>CollectionID</th>\n",
       "      <th>BiographyID</th>\n",
       "      <th>ParagraphNo</th>\n",
       "      <th>ParagraphText</th>\n",
       "    </tr>\n",
       "  </thead>\n",
       "  <tbody>\n",
       "    <tr>\n",
       "      <th>0</th>\n",
       "      <td>a001</td>\n",
       "      <td>bio04</td>\n",
       "      <td>1</td>\n",
       "      <td>A FRENCH philosopher, moralizing on the great ...</td>\n",
       "    </tr>\n",
       "    <tr>\n",
       "      <th>1</th>\n",
       "      <td>a001</td>\n",
       "      <td>bio04</td>\n",
       "      <td>2</td>\n",
       "      <td>Cleopatra was joint heir to the throne of Egyp...</td>\n",
       "    </tr>\n",
       "    <tr>\n",
       "      <th>2</th>\n",
       "      <td>a001</td>\n",
       "      <td>bio04</td>\n",
       "      <td>3</td>\n",
       "      <td>Cleopatra might have responded with a brillian...</td>\n",
       "    </tr>\n",
       "    <tr>\n",
       "      <th>3</th>\n",
       "      <td>a001</td>\n",
       "      <td>bio04</td>\n",
       "      <td>4</td>\n",
       "      <td>Caesar was then above fifty years of age. His ...</td>\n",
       "    </tr>\n",
       "    <tr>\n",
       "      <th>4</th>\n",
       "      <td>a001</td>\n",
       "      <td>bio04</td>\n",
       "      <td>5</td>\n",
       "      <td>For three years Cleopatra reigned with little ...</td>\n",
       "    </tr>\n",
       "  </tbody>\n",
       "</table>\n",
       "</div>"
      ],
      "text/plain": [
       "  CollectionID BiographyID  ParagraphNo  \\\n",
       "0         a001       bio04            1   \n",
       "1         a001       bio04            2   \n",
       "2         a001       bio04            3   \n",
       "3         a001       bio04            4   \n",
       "4         a001       bio04            5   \n",
       "\n",
       "                                       ParagraphText  \n",
       "0  A FRENCH philosopher, moralizing on the great ...  \n",
       "1  Cleopatra was joint heir to the throne of Egyp...  \n",
       "2  Cleopatra might have responded with a brillian...  \n",
       "3  Caesar was then above fifty years of age. His ...  \n",
       "4  For three years Cleopatra reigned with little ...  "
      ]
     },
     "execution_count": 4,
     "metadata": {},
     "output_type": "execute_result"
    }
   ],
   "source": [
    "text_data_sentence.head()"
   ]
  },
  {
   "cell_type": "code",
   "execution_count": 5,
   "metadata": {},
   "outputs": [],
   "source": [
    "def lemmatize_stemming(text):\n",
    "    return stemmer.stem(WordNetLemmatizer().lemmatize(text, pos='v'))\n",
    "def preprocess(text):\n",
    "    result = []\n",
    "    for token in gensim.utils.simple_preprocess(text):\n",
    "        if token not in gensim.parsing.preprocessing.STOPWORDS and len(token) > 3:\n",
    "            result.append(lemmatize_stemming(token))\n",
    "    return result"
   ]
  },
  {
   "cell_type": "code",
   "execution_count": 6,
   "metadata": {},
   "outputs": [],
   "source": [
    "doc_sample= text_data_sentence.ParagraphText.iloc[0]"
   ]
  },
  {
   "cell_type": "code",
   "execution_count": 7,
   "metadata": {},
   "outputs": [
    {
     "name": "stdout",
     "output_type": "stream",
     "text": [
      "original document: \n",
      "['A', 'FRENCH', 'philosopher,', 'moralizing', 'on', 'the', 'great', 'influence', 'of', 'little', 'matters,', 'remarked', 'that', 'a', 'fraction', 'of', 'an', 'inch', 'more', 'on', 'the', 'end', 'of', \"Cleopatra's\", 'nose', 'would', 'have', 'changed', 'the', 'history', 'of', 'Rome', 'and', 'Egypt.', 'As', 'it', 'was,', 'her', 'unblemished', 'beauty,', 'her', 'wit,', 'and', 'her', 'audacity', 'disarmed', 'two', 'of', 'the', 'greatest', 'generals', 'Rome', 'ever', 'sent', 'into', 'Egypt.', 'Not', 'until', 'a', 'third', 'remained', 'oblivious', 'to', 'the', 'charms', 'she', 'temptingly', 'displayed', 'to', 'him', 'did', 'she', 'abandon', 'her', 'effort', 'to', 'rule', 'the', 'world', 'by', 'beauty,', 'and', 'seek', 'refuge', 'in', 'self-inflicted', 'death.']\n",
      "\n",
      "\n",
      " tokenized and lemmatized document: \n",
      "['french', 'philosoph', 'moral', 'great', 'influenc', 'littl', 'matter', 'remark', 'fraction', 'inch', 'cleopatra', 'nose', 'chang', 'histori', 'rome', 'egypt', 'unblemish', 'beauti', 'audac', 'disarm', 'greatest', 'general', 'rome', 'send', 'egypt', 'remain', 'oblivi', 'charm', 'tempt', 'display', 'abandon', 'effort', 'rule', 'world', 'beauti', 'seek', 'refug', 'self', 'inflict', 'death']\n"
     ]
    }
   ],
   "source": [
    "stemmer = SnowballStemmer('english')\n",
    "print('original document: ')\n",
    "words = []\n",
    "for word in doc_sample.split(' '):\n",
    "    words.append(word)\n",
    "print(words)\n",
    "print('\\n\\n tokenized and lemmatized document: ')\n",
    "print(preprocess(doc_sample))"
   ]
  },
  {
   "cell_type": "code",
   "execution_count": 8,
   "metadata": {},
   "outputs": [
    {
     "data": {
      "text/plain": [
       "'run'"
      ]
     },
     "execution_count": 8,
     "metadata": {},
     "output_type": "execute_result"
    }
   ],
   "source": [
    "stemmer.stem('running')"
   ]
  },
  {
   "cell_type": "code",
   "execution_count": 9,
   "metadata": {},
   "outputs": [
    {
     "data": {
      "text/plain": [
       "16637"
      ]
     },
     "execution_count": 9,
     "metadata": {},
     "output_type": "execute_result"
    }
   ],
   "source": [
    "len(text_data_sentence)"
   ]
  },
  {
   "cell_type": "code",
   "execution_count": 10,
   "metadata": {},
   "outputs": [
    {
     "data": {
      "text/plain": [
       "0    [french, philosoph, moral, great, influenc, li...\n",
       "1    [cleopatra, joint, heir, throne, egypt, younge...\n",
       "2    [cleopatra, respond, brilliant, retinu, send, ...\n",
       "3    [caesar, fifti, year, life, soldier, fight, ma...\n",
       "4    [year, cleopatra, reign, littl, troubl, egypt,...\n",
       "5    [antoni, amor, dallianc, keep, caesar, alexand...\n",
       "6    [anecdot, characterist, stori, reach, rome, pe...\n",
       "7    [cleopatra, take, refug, massiv, mausoleum, bu...\n",
       "8    [octavius, cold, ambiti, desir, save, cleopatr...\n",
       "9    [stew, great, copper, bathtub, shape, like, wo...\n",
       "Name: ParagraphText, dtype: object"
      ]
     },
     "execution_count": 10,
     "metadata": {},
     "output_type": "execute_result"
    }
   ],
   "source": [
    "processed_text = text_data_sentence['ParagraphText'].map(preprocess)\n",
    "processed_text[:10]"
   ]
  },
  {
   "cell_type": "code",
   "execution_count": 11,
   "metadata": {},
   "outputs": [
    {
     "name": "stdout",
     "output_type": "stream",
     "text": [
      "0 abandon\n",
      "1 audac\n",
      "2 beauti\n",
      "3 chang\n",
      "4 charm\n",
      "5 cleopatra\n",
      "6 death\n",
      "7 disarm\n",
      "8 display\n",
      "9 effort\n",
      "10 egypt\n"
     ]
    }
   ],
   "source": [
    "dictionary = gensim.corpora.Dictionary(processed_text)\n",
    "count = 0\n",
    "for k, v in dictionary.iteritems():\n",
    "    print(k, v)\n",
    "    count += 1\n",
    "    if count > 10:\n",
    "        break"
   ]
  },
  {
   "cell_type": "code",
   "execution_count": 12,
   "metadata": {},
   "outputs": [],
   "source": [
    "dictionary.filter_extremes(no_below=15, no_above=0.5, keep_n=100000)"
   ]
  },
  {
   "cell_type": "code",
   "execution_count": 13,
   "metadata": {},
   "outputs": [
    {
     "data": {
      "text/plain": [
       "[(33, 1),\n",
       " (183, 1),\n",
       " (555, 1),\n",
       " (663, 1),\n",
       " (671, 1),\n",
       " (906, 1),\n",
       " (933, 1),\n",
       " (940, 1),\n",
       " (1181, 1),\n",
       " (1348, 1),\n",
       " (1527, 1),\n",
       " (1822, 1),\n",
       " (3397, 1),\n",
       " (4065, 1),\n",
       " (4852, 1)]"
      ]
     },
     "execution_count": 13,
     "metadata": {},
     "output_type": "execute_result"
    }
   ],
   "source": [
    "bow_corpus = [dictionary.doc2bow(para) for para in processed_text]\n",
    "bow_corpus[4310]"
   ]
  },
  {
   "cell_type": "code",
   "execution_count": 14,
   "metadata": {},
   "outputs": [
    {
     "name": "stdout",
     "output_type": "stream",
     "text": [
      "Word 33 (\"world\") appears 1 time.\n",
      "Word 183 (\"soldier\") appears 1 time.\n",
      "Word 555 (\"establish\") appears 1 time.\n",
      "Word 663 (\"england\") appears 1 time.\n",
      "Word 671 (\"town\") appears 1 time.\n",
      "Word 906 (\"call\") appears 1 time.\n",
      "Word 933 (\"go\") appears 1 time.\n",
      "Word 940 (\"mission\") appears 1 time.\n",
      "Word 1181 (\"branch\") appears 1 time.\n",
      "Word 1348 (\"plant\") appears 1 time.\n",
      "Word 1527 (\"part\") appears 1 time.\n",
      "Word 1822 (\"station\") appears 1 time.\n",
      "Word 3397 (\"foreign\") appears 1 time.\n",
      "Word 4065 (\"convert\") appears 1 time.\n",
      "Word 4852 (\"aldershot\") appears 1 time.\n"
     ]
    }
   ],
   "source": [
    "bow_doc_4310 = bow_corpus[4310]\n",
    "for i in range(len(bow_doc_4310)):\n",
    "    print(\"Word {} (\\\"{}\\\") appears {} time.\".format(bow_doc_4310[i][0], \n",
    "                                               dictionary[bow_doc_4310[i][0]], \n",
    "bow_doc_4310[i][1]))"
   ]
  },
  {
   "cell_type": "code",
   "execution_count": 15,
   "metadata": {},
   "outputs": [
    {
     "name": "stdout",
     "output_type": "stream",
     "text": [
      "[(0, 0.17982145990951667),\n",
      " (1, 0.22678241597781135),\n",
      " (2, 0.18208101011145128),\n",
      " (3, 0.12593951493038993),\n",
      " (4, 0.12041560749117791),\n",
      " (5, 0.1656402864225709),\n",
      " (6, 0.09287340221089282),\n",
      " (7, 0.2408395494152027),\n",
      " (8, 0.17400117160089892),\n",
      " (9, 0.13328396766128953),\n",
      " (10, 0.37183888203342846),\n",
      " (11, 0.12950483715460168),\n",
      " (12, 0.12164659444314399),\n",
      " (13, 0.07066563655542578),\n",
      " (14, 0.14471623607418466),\n",
      " (15, 0.1350827711577539),\n",
      " (16, 0.21790942168216243),\n",
      " (17, 0.21177538320627756),\n",
      " (18, 0.12206683179289007),\n",
      " (19, 0.07136049726362763),\n",
      " (20, 0.1275523246499251),\n",
      " (21, 0.13991794423212425),\n",
      " (22, 0.19171106528329587),\n",
      " (23, 0.19997657445410555),\n",
      " (24, 0.18504169396015993),\n",
      " (25, 0.11826640835047106),\n",
      " (26, 0.11975015218826524),\n",
      " (27, 0.31385485417075476),\n",
      " (28, 0.14351833413957676),\n",
      " (29, 0.12985592022439799),\n",
      " (30, 0.12143837065284914),\n",
      " (31, 0.09940139023405369),\n",
      " (32, 0.1974073135423591),\n",
      " (33, 0.097720348862514)]\n"
     ]
    }
   ],
   "source": [
    "from gensim import corpora, models\n",
    "tfidf = models.TfidfModel(bow_corpus)\n",
    "corpus_tfidf = tfidf[bow_corpus]\n",
    "from pprint import pprint\n",
    "for doc in corpus_tfidf:\n",
    "    pprint(doc)\n",
    "    break"
   ]
  },
  {
   "cell_type": "markdown",
   "metadata": {},
   "source": [
    "### Running LDA using Bag of Words"
   ]
  },
  {
   "cell_type": "code",
   "execution_count": 19,
   "metadata": {},
   "outputs": [],
   "source": [
    "lda_model = gensim.models.LdaMulticore(bow_corpus, num_topics=6, id2word=dictionary, passes=2, workers=2)"
   ]
  },
  {
   "cell_type": "code",
   "execution_count": 20,
   "metadata": {},
   "outputs": [
    {
     "name": "stdout",
     "output_type": "stream",
     "text": [
      "Topic: 0 \n",
      "Words: 0.010*\"letter\" + 0.009*\"write\" + 0.007*\"say\" + 0.006*\"love\" + 0.006*\"go\" + 0.006*\"mari\" + 0.006*\"miss\" + 0.005*\"clark\" + 0.005*\"know\" + 0.005*\"leav\"\n",
      "Topic: 1 \n",
      "Words: 0.007*\"woman\" + 0.006*\"year\" + 0.006*\"say\" + 0.006*\"love\" + 0.005*\"littl\" + 0.005*\"like\" + 0.005*\"time\" + 0.005*\"give\" + 0.004*\"bell\" + 0.004*\"sister\"\n",
      "Topic: 2 \n",
      "Words: 0.008*\"lola\" + 0.007*\"ladi\" + 0.007*\"time\" + 0.006*\"say\" + 0.005*\"young\" + 0.005*\"come\" + 0.005*\"year\" + 0.005*\"love\" + 0.005*\"littl\" + 0.005*\"work\"\n",
      "Topic: 3 \n",
      "Words: 0.008*\"life\" + 0.007*\"year\" + 0.007*\"come\" + 0.006*\"time\" + 0.006*\"love\" + 0.005*\"go\" + 0.005*\"say\" + 0.005*\"take\" + 0.005*\"long\" + 0.005*\"littl\"\n",
      "Topic: 4 \n",
      "Words: 0.006*\"come\" + 0.005*\"year\" + 0.005*\"know\" + 0.004*\"time\" + 0.004*\"read\" + 0.004*\"work\" + 0.004*\"hous\" + 0.004*\"women\" + 0.004*\"life\" + 0.004*\"ladi\"\n",
      "Topic: 5 \n",
      "Words: 0.007*\"time\" + 0.007*\"year\" + 0.006*\"king\" + 0.006*\"lola\" + 0.006*\"carew\" + 0.005*\"go\" + 0.005*\"come\" + 0.005*\"write\" + 0.004*\"great\" + 0.004*\"leav\"\n"
     ]
    }
   ],
   "source": [
    "for idx, topic in lda_model.print_topics(-1):\n",
    "    print('Topic: {} \\nWords: {}'.format(idx, topic))"
   ]
  },
  {
   "cell_type": "markdown",
   "metadata": {},
   "source": [
    "### Running LDA using TFIDF"
   ]
  },
  {
   "cell_type": "code",
   "execution_count": 18,
   "metadata": {},
   "outputs": [
    {
     "name": "stdout",
     "output_type": "stream",
     "text": [
      "Topic: 0 Word: 0.003*\"king\" + 0.003*\"know\" + 0.003*\"come\" + 0.003*\"go\" + 0.002*\"love\" + 0.002*\"like\" + 0.002*\"thou\" + 0.002*\"say\" + 0.002*\"woman\" + 0.002*\"write\"\n",
      "Topic: 1 Word: 0.003*\"love\" + 0.003*\"say\" + 0.003*\"time\" + 0.003*\"come\" + 0.002*\"know\" + 0.002*\"year\" + 0.002*\"go\" + 0.002*\"littl\" + 0.002*\"miss\" + 0.002*\"like\"\n",
      "Topic: 2 Word: 0.003*\"sister\" + 0.003*\"come\" + 0.003*\"year\" + 0.003*\"life\" + 0.003*\"love\" + 0.002*\"time\" + 0.002*\"great\" + 0.002*\"say\" + 0.002*\"know\" + 0.002*\"go\"\n",
      "Topic: 3 Word: 0.003*\"say\" + 0.003*\"lola\" + 0.002*\"love\" + 0.002*\"time\" + 0.002*\"come\" + 0.002*\"year\" + 0.002*\"work\" + 0.002*\"life\" + 0.002*\"write\" + 0.002*\"woman\"\n",
      "Topic: 4 Word: 0.003*\"year\" + 0.003*\"life\" + 0.003*\"write\" + 0.003*\"love\" + 0.003*\"work\" + 0.003*\"time\" + 0.002*\"friend\" + 0.002*\"say\" + 0.002*\"great\" + 0.002*\"woman\"\n"
     ]
    }
   ],
   "source": [
    "lda_model_tfidf = gensim.models.LdaMulticore(corpus_tfidf, num_topics=5, id2word=dictionary, passes=2, workers=4)\n",
    "for idx, topic in lda_model_tfidf.print_topics(-1):\n",
    "    print('Topic: {} Word: {}'.format(idx, topic))"
   ]
  },
  {
   "cell_type": "code",
   "execution_count": null,
   "metadata": {},
   "outputs": [],
   "source": []
  }
 ],
 "metadata": {
  "kernelspec": {
   "display_name": "Python 3",
   "language": "python",
   "name": "python3"
  },
  "language_info": {
   "codemirror_mode": {
    "name": "ipython",
    "version": 3
   },
   "file_extension": ".py",
   "mimetype": "text/x-python",
   "name": "python",
   "nbconvert_exporter": "python",
   "pygments_lexer": "ipython3",
   "version": "3.6.5"
  }
 },
 "nbformat": 4,
 "nbformat_minor": 2
}
